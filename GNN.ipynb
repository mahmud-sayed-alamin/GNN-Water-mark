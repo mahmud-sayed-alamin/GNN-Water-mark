{
  "cells": [
    {
      "cell_type": "markdown",
      "metadata": {
        "id": "view-in-github",
        "colab_type": "text"
      },
      "source": [
        "<a href=\"https://colab.research.google.com/github/mahmud-sayed-alamin/GNN-Water-mark/blob/main/GNN.ipynb\" target=\"_parent\"><img src=\"https://colab.research.google.com/assets/colab-badge.svg\" alt=\"Open In Colab\"/></a>"
      ]
    },
    {
      "cell_type": "code",
      "source": [
        "import torch\n",
        "import torch.nn as nn\n",
        "import torch.nn.functional as F\n",
        "from torch_geometric.datasets import Planetoid\n",
        "from torch_geometric.nn import GCNConv\n",
        "from torch.optim import Adam\n",
        "from sklearn.metrics import precision_score, f1_score\n",
        "import pandas as pd"
      ],
      "metadata": {
        "id": "eMdttRRA3EJL"
      },
      "execution_count": 56,
      "outputs": []
    },
    {
      "cell_type": "code",
      "source": [
        "def load_data():\n",
        "    dataset = Planetoid(root='/tmp/Cora', name='Cora')\n",
        "    return dataset[0]"
      ],
      "metadata": {
        "id": "3xlN5UUPLZeH"
      },
      "execution_count": 57,
      "outputs": []
    },
    {
      "cell_type": "code",
      "source": [
        "class GCN(nn.Module):\n",
        "    def __init__(self, in_channels, hidden_channels, out_channels):\n",
        "        super(GCN, self).__init__()\n",
        "        self.conv1 = GCNConv(in_channels, hidden_channels)\n",
        "        self.conv2 = GCNConv(hidden_channels, out_channels)\n",
        "\n",
        "    def forward(self, x, edge_index):\n",
        "        x = F.relu(self.conv1(x, edge_index))\n",
        "        x = F.log_softmax(self.conv2(x, edge_index), dim=1)\n",
        "        return x"
      ],
      "metadata": {
        "id": "aqy-Za0w3Y7J"
      },
      "execution_count": 58,
      "outputs": []
    },
    {
      "cell_type": "code",
      "source": [
        "def compute_loss(output, y, mask):\n",
        "    return F.nll_loss(output[mask], y[mask])\n",
        "\n",
        "def train(model, data, optimizer):\n",
        "    model.train()\n",
        "    optimizer.zero_grad()\n",
        "    output = model(data.x, data.edge_index)\n",
        "    loss = compute_loss(output, data.y, data.train_mask)\n",
        "    loss.backward()\n",
        "    optimizer.step()\n",
        "    return loss.item()\n",
        "\n",
        "def evaluate(model, data):\n",
        "    model.eval()\n",
        "    with torch.no_grad():\n",
        "        output = model(data.x, data.edge_index)\n",
        "    predictions = output.argmax(dim=1)\n",
        "    accuracies = {\n",
        "        mask_name: (predictions[mask].eq(data.y[mask]).sum().item() / mask.sum().item())\n",
        "        for mask_name, mask in [('Train', data.train_mask), ('Validation', data.val_mask), ('Test', data.test_mask)]\n",
        "    }\n",
        "    return accuracies"
      ],
      "metadata": {
        "id": "yw0cL9t83co6"
      },
      "execution_count": 59,
      "outputs": []
    },
    {
      "cell_type": "code",
      "source": [
        "def generate_trigger_graph(data, model, num_trigger_nodes=10, target_label=0):\n",
        "    model.eval()\n",
        "    with torch.no_grad():\n",
        "        output = model(data.x, data.edge_index)\n",
        "    target_nodes = torch.where(output.argmax(dim=1) == target_label)[0][:num_trigger_nodes]\n",
        "    trigger_features = data.x[target_nodes].clone()\n",
        "    num_original_nodes = data.x.shape[0]\n",
        "    trigger_indices = torch.arange(num_original_nodes, num_original_nodes + num_trigger_nodes)\n",
        "    new_edges = torch.cat([\n",
        "        torch.stack([trigger_indices, target_nodes], dim=0),\n",
        "        torch.stack([target_nodes, trigger_indices], dim=0)\n",
        "    ], dim=1)\n",
        "    return {'features': trigger_features, 'edges': new_edges, 'nodes': trigger_indices}\n",
        "\n",
        "def verify_ownership(model, data, trigger_graph, target_label):\n",
        "    model.eval()\n",
        "    x_combined = torch.cat([data.x, trigger_graph['features']], dim=0)\n",
        "    edge_index_combined = torch.cat([data.edge_index, trigger_graph['edges']], dim=1)\n",
        "    with torch.no_grad():\n",
        "        output = model(x_combined, edge_index_combined)\n",
        "    predictions = output[trigger_graph['nodes']].argmax(dim=1)\n",
        "    return (predictions == target_label).sum().item() / len(trigger_graph['nodes'])"
      ],
      "metadata": {
        "id": "7YGhCNHO3lE4"
      },
      "execution_count": 60,
      "outputs": []
    },
    {
      "cell_type": "code",
      "source": [
        "def calculate_metrics(model, data):\n",
        "    output = model(data.x, data.edge_index)\n",
        "    pred = output.argmax(dim=1)\n",
        "    y_true = data.y[data.test_mask].cpu().numpy()\n",
        "    y_pred = pred[data.test_mask].cpu().numpy()\n",
        "    return {\n",
        "        'Precision': precision_score(y_true, y_pred, average='weighted') * 100,\n",
        "        'F1-Score': f1_score(y_true, y_pred, average='weighted') * 100\n",
        "    }\n",
        "\n",
        "data = load_data()\n",
        "model = GCN(in_channels=1433, hidden_channels=128, out_channels=7)\n",
        "optimizer = Adam(model.parameters(), lr=0.01, weight_decay=5e-2)"
      ],
      "metadata": {
        "id": "vDr_TyhW3nii"
      },
      "execution_count": 61,
      "outputs": []
    },
    {
      "cell_type": "code",
      "source": [
        "# Training loop\n",
        "for epoch in range(200):\n",
        "    loss = train(model, data, optimizer)\n",
        "    if epoch % 10 == 0:\n",
        "        accs = evaluate(model, data)\n",
        "        print(f\"Epoch {epoch:03d}, Loss: {loss:.4f}, Train Acc: {accs['Train']:.4f}, Val Acc: {accs['Validation']:.4f}, Test Acc: {accs['Test']:.4f}\")\n",
        "\n",
        "# Watermarking process\n",
        "trigger_graph = generate_trigger_graph(data, model)\n",
        "trigger_accuracy = verify_ownership(model, data, trigger_graph, target_label=0)\n",
        "print(f\"Watermark Accuracy: {trigger_accuracy * 100:.2f}%\")\n",
        "\n",
        "# Compute metrics\n",
        "metrics = calculate_metrics(model, data)\n",
        "print(f\"Precision: {metrics['Precision']:.2f}%\\nF1-Score: {metrics['F1-Score']:.2f}%\")"
      ],
      "metadata": {
        "colab": {
          "base_uri": "https://localhost:8080/"
        },
        "id": "eQ0RM8-J3pbQ",
        "outputId": "3594f442-be5e-4404-b35f-8e531600f58a"
      },
      "execution_count": 62,
      "outputs": [
        {
          "output_type": "stream",
          "name": "stdout",
          "text": [
            "Epoch 000, Loss: 1.9532, Train Acc: 0.7929, Val Acc: 0.5140, Test Acc: 0.5220\n",
            "Epoch 010, Loss: 0.9134, Train Acc: 0.9714, Val Acc: 0.7720, Test Acc: 0.8050\n",
            "Epoch 020, Loss: 0.6712, Train Acc: 0.9857, Val Acc: 0.7820, Test Acc: 0.8150\n",
            "Epoch 030, Loss: 0.6937, Train Acc: 0.9857, Val Acc: 0.7900, Test Acc: 0.8130\n",
            "Epoch 040, Loss: 0.7433, Train Acc: 0.9786, Val Acc: 0.7820, Test Acc: 0.8080\n",
            "Epoch 050, Loss: 0.7315, Train Acc: 0.9857, Val Acc: 0.7820, Test Acc: 0.8090\n",
            "Epoch 060, Loss: 0.7212, Train Acc: 0.9857, Val Acc: 0.7820, Test Acc: 0.8120\n",
            "Epoch 070, Loss: 0.7262, Train Acc: 0.9857, Val Acc: 0.7820, Test Acc: 0.8110\n",
            "Epoch 080, Loss: 0.7225, Train Acc: 0.9857, Val Acc: 0.7820, Test Acc: 0.8120\n",
            "Epoch 090, Loss: 0.7227, Train Acc: 0.9857, Val Acc: 0.7820, Test Acc: 0.8110\n",
            "Epoch 100, Loss: 0.7217, Train Acc: 0.9786, Val Acc: 0.7820, Test Acc: 0.8120\n",
            "Epoch 110, Loss: 0.7207, Train Acc: 0.9857, Val Acc: 0.7840, Test Acc: 0.8100\n",
            "Epoch 120, Loss: 0.7202, Train Acc: 0.9857, Val Acc: 0.7840, Test Acc: 0.8110\n",
            "Epoch 130, Loss: 0.7194, Train Acc: 0.9857, Val Acc: 0.7840, Test Acc: 0.8110\n",
            "Epoch 140, Loss: 0.7188, Train Acc: 0.9857, Val Acc: 0.7840, Test Acc: 0.8110\n",
            "Epoch 150, Loss: 0.7182, Train Acc: 0.9857, Val Acc: 0.7840, Test Acc: 0.8130\n",
            "Epoch 160, Loss: 0.7178, Train Acc: 0.9857, Val Acc: 0.7840, Test Acc: 0.8130\n",
            "Epoch 170, Loss: 0.7173, Train Acc: 0.9857, Val Acc: 0.7840, Test Acc: 0.8120\n",
            "Epoch 180, Loss: 0.7171, Train Acc: 0.9786, Val Acc: 0.7840, Test Acc: 0.8120\n",
            "Epoch 190, Loss: 0.7166, Train Acc: 0.9786, Val Acc: 0.7840, Test Acc: 0.8120\n",
            "Watermark Accuracy: 90.00%\n",
            "Precision: 83.00%\n",
            "F1-Score: 81.42%\n"
          ]
        }
      ]
    },
    {
      "cell_type": "code",
      "source": [
        "import torch\n",
        "import pandas as pd\n",
        "import matplotlib.pyplot as plt\n",
        "import seaborn as sns\n",
        "from sklearn.metrics import accuracy_score, precision_score, recall_score, f1_score\n",
        "\n",
        "# Function to evaluate model performance\n",
        "def evaluate_model(model, data):\n",
        "    output = model(data.x, data.edge_index)\n",
        "    pred = output.argmax(dim=1)\n",
        "\n",
        "    y_true = data.y[data.test_mask].cpu().numpy()\n",
        "    y_pred = pred[data.test_mask].cpu().numpy()\n",
        "\n",
        "    accuracy = accuracy_score(y_true, y_pred) * 100\n",
        "    precision = precision_score(y_true, y_pred, average='weighted') * 100\n",
        "    recall = recall_score(y_true, y_pred, average='weighted') * 100\n",
        "    f1 = f1_score(y_true, y_pred, average='weighted') * 100\n",
        "\n",
        "    return accuracy, precision, recall, f1\n",
        "\n",
        "# Evaluate the original model\n",
        "model_accuracy_original, model_precision_original, model_recall_original, model_f1_original = evaluate_model(model, data)\n",
        "\n",
        "# Evaluate the watermarked model\n",
        "model_accuracy_watermarked, model_precision_watermarked, model_recall_watermarked, model_f1_watermarked = evaluate_model(model, new_data)\n",
        "\n",
        "# Paper results for GCN on Cora\n",
        "paper_results = {\n",
        "    \"Metric\": [\"Accuracy\", \"Precision\", \"Recall\", \"F1-Score\"],\n",
        "    \"Paper Original\": [83.74, 83.84, 80.69, 83.70],\n",
        "    \"Paper Watermarked\": [83.40, 83.47, 80.19, 83.70],\n",
        "}\n",
        "\n",
        "results = {\n",
        "    \"Metric\": [\"Accuracy\", \"Precision\", \"Recall\", \"F1-Score\"],\n",
        "    \"Original\": [model_accuracy_original, model_precision_original, model_recall_original, model_f1_original],\n",
        "    \"Watermarked\": [model_accuracy_watermarked, model_precision_watermarked, model_recall_watermarked, model_f1_watermarked],\n",
        "}\n",
        "\n",
        "comparison_df = pd.DataFrame(paper_results).set_index(\"Metric\")\n",
        "comparison_df[[\"Original\", \"Watermarked\"]] = pd.DataFrame(results).set_index(\"Metric\")\n",
        "\n",
        "print(\"\\nComparison Table (GCN on Cora)\\n\")\n",
        "print(comparison_df.to_markdown())\n",
        "\n"
      ],
      "metadata": {
        "colab": {
          "base_uri": "https://localhost:8080/"
        },
        "id": "KlyPPtr_bL35",
        "outputId": "b0ee1974-e429-4d4e-f54f-0894cce6ff47"
      },
      "execution_count": 63,
      "outputs": [
        {
          "output_type": "stream",
          "name": "stdout",
          "text": [
            "\n",
            "Comparison Table (GCN on Cora)\n",
            "\n",
            "| Metric    |   Paper Original |   Paper Watermarked |   Original |   Watermarked |\n",
            "|:----------|-----------------:|--------------------:|-----------:|--------------:|\n",
            "| Accuracy  |            83.74 |               83.4  |    81.2    |       81.2    |\n",
            "| Precision |            83.84 |               83.47 |    83.0001 |       83.0001 |\n",
            "| Recall    |            80.69 |               80.19 |    81.2    |       81.2    |\n",
            "| F1-Score  |            83.7  |               83.7  |    81.4236 |       81.4236 |\n"
          ]
        }
      ]
    },
    {
      "cell_type": "markdown",
      "source": [],
      "metadata": {
        "id": "n4bd7WZN5s7n"
      }
    },
    {
      "cell_type": "code",
      "source": [
        "# Visualization\n",
        "plt.figure(figsize=(8, 5))\n",
        "df = pd.DataFrame({\n",
        "    \"Metric\": [\"Accuracy\", \"Precision\", \"Recall\", \"F1-Score\"],\n",
        "    \"Paper Results\": [83.74, 83.84, 80.69, 83.70],\n",
        "    \"Our Model\": [model_accuracy_original, model_precision_original, model_recall_original, model_f1_original]\n",
        "})\n",
        "\n",
        "ax = sns.barplot(x=\"Metric\", y=\"value\", hue=\"variable\", data=df.melt(id_vars=[\"Metric\"], var_name=\"variable\"))\n",
        "plt.xlabel(\"Metric\")\n",
        "plt.ylabel(\"Performance (%)\")\n",
        "plt.title(\"Comparison of Paper vs. Our Model Performance (GCN on Cora)\")\n",
        "plt.ylim(75, 100)\n",
        "plt.legend(title=\"Results\")\n",
        "plt.grid(axis=\"y\", linestyle=\"--\", alpha=0.7)\n",
        "plt.show()"
      ],
      "metadata": {
        "colab": {
          "base_uri": "https://localhost:8080/",
          "height": 487
        },
        "id": "dnctU0HJdXK-",
        "outputId": "33d4fdc4-efef-4947-a812-d02892825c1a"
      },
      "execution_count": 64,
      "outputs": [
        {
          "output_type": "display_data",
          "data": {
            "text/plain": [
              "<Figure size 800x500 with 1 Axes>"
            ],
            "image/png": "[encoded data removed]"
          },
          "metadata": {}
        }
      ]
    }
  ],
  "metadata": {
    "colab": {
      "provenance": [],
      "authorship_tag": "ABX9TyPx+ajVwAUcKI5TkCtIIPOi",
      "include_colab_link": true
    },
    "kernelspec": {
      "display_name": "Python 3",
      "name": "python3"
    },
    "language_info": {
      "name": "python"
    }
  },
  "nbformat": 4,
  "nbformat_minor": 0
}