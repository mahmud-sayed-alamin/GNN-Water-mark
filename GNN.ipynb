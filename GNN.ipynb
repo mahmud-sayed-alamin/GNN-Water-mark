{
  "cells": [
    {
      "cell_type": "markdown",
      "metadata": {
        "id": "view-in-github",
        "colab_type": "text"
      },
      "source": [
        "<a href=\"https://colab.research.google.com/github/mahmud-sayed-alamin/GNN-Water-mark/blob/main/GNN.ipynb\" target=\"_parent\"><img src=\"https://colab.research.google.com/assets/colab-badge.svg\" alt=\"Open In Colab\"/></a>"
      ]
    },
    {
      "cell_type": "code",
      "source": [
        "import torch\n",
        "import torch.nn as nn\n",
        "import torch.nn.functional as F\n",
        "from torch_geometric.datasets import Planetoid\n",
        "from torch_geometric.nn import GCNConv\n",
        "from torch_geometric.data import Data"
      ],
      "metadata": {
        "id": "eMdttRRA3EJL"
      },
      "execution_count": 25,
      "outputs": []
    },
    {
      "cell_type": "code",
      "source": [
        "dataset = Planetoid(root='/tmp/Cora', name='Cora')\n",
        "data = dataset[0]\n",
        "print(f\"Dataset: {dataset.name}\")\n",
        "print(f\"Number of Nodes: {data.num_nodes}\")\n",
        "print(f\"Number of Edges: {data.num_edges}\")\n",
        "print(f\"Number of Features: {data.num_node_features}\")\n",
        "print(f\"Number of Classes: {dataset.num_classes}\")\n"
      ],
      "metadata": {
        "colab": {
          "base_uri": "https://localhost:8080/"
        },
        "id": "LIwkaegA3NYC",
        "outputId": "be102df4-d53d-4637-b04d-1415d263c2aa"
      },
      "execution_count": 26,
      "outputs": [
        {
          "output_type": "stream",
          "name": "stdout",
          "text": [
            "Dataset: Cora\n",
            "Number of Nodes: 2708\n",
            "Number of Edges: 10556\n",
            "Number of Features: 1433\n",
            "Number of Classes: 7\n"
          ]
        }
      ]
    },
    {
      "cell_type": "code",
      "source": [
        "torch.manual_seed(42)"
      ],
      "metadata": {
        "colab": {
          "base_uri": "https://localhost:8080/"
        },
        "id": "YrGC6I-l3Rky",
        "outputId": "181fd755-6915-4b66-a231-2518af3a71d8"
      },
      "execution_count": 27,
      "outputs": [
        {
          "output_type": "execute_result",
          "data": {
            "text/plain": [
              "<torch._C.Generator at 0x79cdc0f322d0>"
            ]
          },
          "metadata": {},
          "execution_count": 27
        }
      ]
    },
    {
      "cell_type": "code",
      "source": [
        "class GCN(torch.nn.Module):\n",
        "    def __init__(self, in_channels, hidden_channels, out_channels):\n",
        "        super(GCN, self).__init__()\n",
        "        # Define two GCN layers\n",
        "        self.conv1 = GCNConv(in_channels, hidden_channels)\n",
        "        self.conv2 = GCNConv(hidden_channels, out_channels)\n",
        "\n",
        "    def forward(self, x, edge_index):\n",
        "        x = self.conv1(x, edge_index)\n",
        "        x = F.relu(x)\n",
        "        x = F.dropout(x, p=0.05, training=self.training)\n",
        "\n",
        "        x = self.conv2(x, edge_index)\n",
        "        return F.log_softmax(x, dim=1)"
      ],
      "metadata": {
        "id": "AKf-UUpb3Xqj"
      },
      "execution_count": 28,
      "outputs": []
    },
    {
      "cell_type": "code",
      "source": [
        "model = GCN(\n",
        "    in_channels=1433,\n",
        "    hidden_channels=32,\n",
        "    out_channels=7\n",
        ")"
      ],
      "metadata": {
        "id": "aqy-Za0w3Y7J"
      },
      "execution_count": 29,
      "outputs": []
    },
    {
      "cell_type": "code",
      "source": [
        "out = model(data.x, data.edge_index)\n",
        "print(out.shape)"
      ],
      "metadata": {
        "colab": {
          "base_uri": "https://localhost:8080/"
        },
        "id": "zk9L0tk73a35",
        "outputId": "43c3ef90-bd7d-4ff5-a63d-0d2674a2558c"
      },
      "execution_count": 30,
      "outputs": [
        {
          "output_type": "stream",
          "name": "stdout",
          "text": [
            "torch.Size([2708, 7])\n"
          ]
        }
      ]
    },
    {
      "cell_type": "code",
      "source": [
        "import torch.nn.functional as F\n",
        "\n",
        "def compute_loss(output, y, mask):\n",
        "    loss = F.nll_loss(output[mask], y[mask])\n",
        "    return loss\n",
        "optimizer = torch.optim.Adam(model.parameters(), lr=0.01, weight_decay=5e-2)"
      ],
      "metadata": {
        "id": "yw0cL9t83co6"
      },
      "execution_count": 31,
      "outputs": []
    },
    {
      "cell_type": "code",
      "source": [
        "def train(data):\n",
        "    model.train()\n",
        "    optimizer.zero_grad()\n",
        "    output = model(data.x, data.edge_index)\n",
        "    loss = compute_loss(output, data.y, data.train_mask)\n",
        "    loss.backward()\n",
        "    optimizer.step()\n",
        "    return loss.item()"
      ],
      "metadata": {
        "id": "7YGhCNHO3lE4"
      },
      "execution_count": 32,
      "outputs": []
    },
    {
      "cell_type": "code",
      "source": [
        "def test(data):\n",
        "    model.eval()\n",
        "    output = model(data.x, data.edge_index)\n",
        "    pred = output.argmax(dim=1)\n",
        "    accs = []\n",
        "    for mask in [data.train_mask, data.val_mask, data.test_mask]:\n",
        "        correct = pred[mask].eq(data.y[mask]).sum().item()\n",
        "        acc = correct / mask.sum().item()\n",
        "        accs.append(acc)\n",
        "    return accs"
      ],
      "metadata": {
        "id": "vDr_TyhW3nii"
      },
      "execution_count": 33,
      "outputs": []
    },
    {
      "cell_type": "code",
      "source": [
        "for epoch in range(200):\n",
        "    loss = train(data)\n",
        "    train_acc, val_acc, test_acc = test(data)\n",
        "\n",
        "    if epoch % 10 == 0:\n",
        "        print(f\"Epoch: {epoch:03d}, Loss: {loss:.4f}, \"\n",
        "              f\"Train Acc: {train_acc:.4f}, Val Acc: {val_acc:.4f}, Test Acc: {test_acc:.4f}\")"
      ],
      "metadata": {
        "colab": {
          "base_uri": "https://localhost:8080/"
        },
        "id": "eQ0RM8-J3pbQ",
        "outputId": "62d9bd95-69ce-4996-f6c0-e670e6221d09"
      },
      "execution_count": 34,
      "outputs": [
        {
          "output_type": "stream",
          "name": "stdout",
          "text": [
            "Epoch: 000, Loss: 1.9558, Train Acc: 0.5429, Val Acc: 0.3200, Test Acc: 0.3470\n",
            "Epoch: 010, Loss: 1.1722, Train Acc: 0.9643, Val Acc: 0.7600, Test Acc: 0.7910\n",
            "Epoch: 020, Loss: 0.8760, Train Acc: 0.9714, Val Acc: 0.7660, Test Acc: 0.8160\n",
            "Epoch: 030, Loss: 0.7322, Train Acc: 0.9786, Val Acc: 0.7780, Test Acc: 0.8190\n",
            "Epoch: 040, Loss: 0.6941, Train Acc: 0.9786, Val Acc: 0.7860, Test Acc: 0.8170\n",
            "Epoch: 050, Loss: 0.7221, Train Acc: 0.9786, Val Acc: 0.7800, Test Acc: 0.8140\n",
            "Epoch: 060, Loss: 0.7481, Train Acc: 0.9714, Val Acc: 0.7840, Test Acc: 0.8090\n",
            "Epoch: 070, Loss: 0.7325, Train Acc: 0.9786, Val Acc: 0.7820, Test Acc: 0.8100\n",
            "Epoch: 080, Loss: 0.7338, Train Acc: 0.9786, Val Acc: 0.7820, Test Acc: 0.8080\n",
            "Epoch: 090, Loss: 0.7316, Train Acc: 0.9714, Val Acc: 0.7860, Test Acc: 0.8160\n",
            "Epoch: 100, Loss: 0.7278, Train Acc: 0.9857, Val Acc: 0.7800, Test Acc: 0.8140\n",
            "Epoch: 110, Loss: 0.7344, Train Acc: 0.9786, Val Acc: 0.7820, Test Acc: 0.8110\n",
            "Epoch: 120, Loss: 0.7241, Train Acc: 0.9714, Val Acc: 0.7820, Test Acc: 0.8100\n",
            "Epoch: 130, Loss: 0.7308, Train Acc: 0.9857, Val Acc: 0.7860, Test Acc: 0.8140\n",
            "Epoch: 140, Loss: 0.7273, Train Acc: 0.9786, Val Acc: 0.7840, Test Acc: 0.8140\n",
            "Epoch: 150, Loss: 0.7310, Train Acc: 0.9857, Val Acc: 0.7840, Test Acc: 0.8100\n",
            "Epoch: 160, Loss: 0.7288, Train Acc: 0.9786, Val Acc: 0.7820, Test Acc: 0.8100\n",
            "Epoch: 170, Loss: 0.7251, Train Acc: 0.9786, Val Acc: 0.7820, Test Acc: 0.8050\n",
            "Epoch: 180, Loss: 0.7259, Train Acc: 0.9714, Val Acc: 0.7840, Test Acc: 0.8100\n",
            "Epoch: 190, Loss: 0.7275, Train Acc: 0.9786, Val Acc: 0.7820, Test Acc: 0.8130\n"
          ]
        }
      ]
    },
    {
      "cell_type": "code",
      "source": [
        "def evaluate(data):\n",
        "    model.eval()  # Set the model to evaluation mode\n",
        "\n",
        "    # Forward pass to get predictions\n",
        "    with torch.no_grad():  # No gradients needed during evaluation\n",
        "        output = model(data.x, data.edge_index)\n",
        "\n",
        "    # Get predicted class for each node\n",
        "    predictions = output.argmax(dim=1)  # Pick the class with the highest probability\n",
        "\n",
        "    # Calculate accuracy for train, validation, and test sets\n",
        "    accuracies = {}\n",
        "    for mask_name, mask in [('Train', data.train_mask),\n",
        "                            ('Validation', data.val_mask),\n",
        "                            ('Test', data.test_mask)]:\n",
        "        correct = predictions[mask].eq(data.y[mask]).sum().item()  # Correct predictions\n",
        "        total = mask.sum().item()  # Total nodes in the mask\n",
        "        accuracy = correct / total\n",
        "        accuracies[mask_name] = accuracy\n",
        "\n",
        "    return accuracies"
      ],
      "metadata": {
        "id": "TTm_rWzA4ZQ5"
      },
      "execution_count": 37,
      "outputs": []
    },
    {
      "cell_type": "code",
      "source": [
        "# Initialize lists to track accuracy and loss\n",
        "train_acc_list = []\n",
        "val_acc_list = []\n",
        "loss_list = []\n",
        "\n",
        "for epoch in range(200):  # Train for 200 epochs\n",
        "    # Train the model\n",
        "    loss = train(data)\n",
        "    loss_list.append(loss)  # Store the loss\n",
        "\n",
        "    # Evaluate the model on train and validation sets\n",
        "    accuracies = evaluate(data)\n",
        "    train_acc_list.append(accuracies['Train'])  # Store train accuracy\n",
        "    val_acc_list.append(accuracies['Validation'])  # Store validation accuracy\n",
        "\n",
        "    # Print progress every 10 epochs\n",
        "    if epoch % 10 == 0:\n",
        "        print(f\"Epoch {epoch:03d}, Loss: {loss:.4f}, \"\n",
        "              f\"Train Acc: {accuracies['Train']:.4f}, \"\n",
        "              f\"Val Acc: {accuracies['Validation']:.4f}, \"\n",
        "              f\"Test Acc: {accuracies['Test']:.4f}\")\n",
        "\n"
      ],
      "metadata": {
        "colab": {
          "base_uri": "https://localhost:8080/"
        },
        "id": "jJlR7zH638AY",
        "outputId": "16b51aa8-13f0-4cae-f6c5-15d083946ffd"
      },
      "execution_count": 38,
      "outputs": [
        {
          "output_type": "stream",
          "name": "stdout",
          "text": [
            "Epoch 000, Loss: 0.7278, Train Acc: 0.9786, Val Acc: 0.7840, Test Acc: 0.8080\n",
            "Epoch 010, Loss: 0.7270, Train Acc: 0.9714, Val Acc: 0.7820, Test Acc: 0.8160\n",
            "Epoch 020, Loss: 0.7309, Train Acc: 0.9714, Val Acc: 0.7800, Test Acc: 0.8090\n",
            "Epoch 030, Loss: 0.7250, Train Acc: 0.9714, Val Acc: 0.7800, Test Acc: 0.8100\n",
            "Epoch 040, Loss: 0.7158, Train Acc: 0.9857, Val Acc: 0.7840, Test Acc: 0.8100\n",
            "Epoch 050, Loss: 0.7268, Train Acc: 0.9786, Val Acc: 0.7820, Test Acc: 0.8110\n",
            "Epoch 060, Loss: 0.7253, Train Acc: 0.9857, Val Acc: 0.7840, Test Acc: 0.8120\n",
            "Epoch 070, Loss: 0.7190, Train Acc: 0.9714, Val Acc: 0.7820, Test Acc: 0.8140\n",
            "Epoch 080, Loss: 0.7234, Train Acc: 0.9857, Val Acc: 0.7840, Test Acc: 0.8130\n",
            "Epoch 090, Loss: 0.7201, Train Acc: 0.9786, Val Acc: 0.7800, Test Acc: 0.8110\n",
            "Epoch 100, Loss: 0.7272, Train Acc: 0.9714, Val Acc: 0.7840, Test Acc: 0.8110\n",
            "Epoch 110, Loss: 0.7244, Train Acc: 0.9786, Val Acc: 0.7840, Test Acc: 0.8110\n",
            "Epoch 120, Loss: 0.7205, Train Acc: 0.9786, Val Acc: 0.7840, Test Acc: 0.8150\n",
            "Epoch 130, Loss: 0.7336, Train Acc: 0.9857, Val Acc: 0.7800, Test Acc: 0.8120\n",
            "Epoch 140, Loss: 0.7233, Train Acc: 0.9857, Val Acc: 0.7820, Test Acc: 0.8140\n",
            "Epoch 150, Loss: 0.7295, Train Acc: 0.9857, Val Acc: 0.7820, Test Acc: 0.8090\n",
            "Epoch 160, Loss: 0.7234, Train Acc: 0.9857, Val Acc: 0.7840, Test Acc: 0.8100\n",
            "Epoch 170, Loss: 0.7259, Train Acc: 0.9714, Val Acc: 0.7820, Test Acc: 0.8120\n",
            "Epoch 180, Loss: 0.7186, Train Acc: 0.9857, Val Acc: 0.7780, Test Acc: 0.8130\n",
            "Epoch 190, Loss: 0.7180, Train Acc: 0.9714, Val Acc: 0.7820, Test Acc: 0.8140\n"
          ]
        }
      ]
    },
    {
      "cell_type": "code",
      "source": [
        "import matplotlib.pyplot as plt\n",
        "\n",
        "# Suppose you logged the losses and accuracies during training\n",
        "epochs = range(len(train_acc_list))  # List of epoch numbers\n",
        "plt.plot(epochs, train_acc_list, label=\"Train Accuracy\")\n",
        "plt.plot(epochs, val_acc_list, label=\"Validation Accuracy\")\n",
        "plt.xlabel(\"Epoch\")\n",
        "plt.ylabel(\"Accuracy\")\n",
        "plt.legend()\n",
        "plt.title(\"Training Progress\")\n",
        "plt.show()\n",
        ""
      ],
      "metadata": {
        "colab": {
          "base_uri": "https://localhost:8080/",
          "height": 472
        },
        "id": "tOuP2-YD3tj7",
        "outputId": "50d25a14-bd95-43f5-f692-bf193328f710"
      },
      "execution_count": 39,
      "outputs": [
        {
          "output_type": "display_data",
          "data": {
            "text/plain": [
              "<Figure size 640x480 with 1 Axes>"
            ],
            "image/png": "[encoded data removed]"
          },
          "metadata": {}
        }
      ]
    }
  ],
  "metadata": {
    "colab": {
      "provenance": [],
      "authorship_tag": "ABX9TyOlcLfGaujN7MtS6p4Jcp2/",
      "include_colab_link": true
    },
    "kernelspec": {
      "display_name": "Python 3",
      "name": "python3"
    },
    "language_info": {
      "name": "python"
    }
  },
  "nbformat": 4,
  "nbformat_minor": 0
}