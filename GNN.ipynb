{
  "cells": [
    {
      "cell_type": "markdown",
      "metadata": {
        "id": "view-in-github",
        "colab_type": "text"
      },
      "source": [
        "<a href=\"https://colab.research.google.com/github/mahmud-sayed-alamin/GNN-Water-mark/blob/main/GNN.ipynb\" target=\"_parent\"><img src=\"https://colab.research.google.com/assets/colab-badge.svg\" alt=\"Open In Colab\"/></a>"
      ]
    },
    {
      "cell_type": "code",
      "source": [
        "import torch\n",
        "import torch.nn as nn\n",
        "import torch.nn.functional as F\n",
        "from torch_geometric.datasets import Planetoid\n",
        "from torch_geometric.nn import GCNConv\n",
        "from torch_geometric.data import Data"
      ],
      "metadata": {
        "id": "eMdttRRA3EJL"
      },
      "execution_count": 51,
      "outputs": []
    },
    {
      "cell_type": "code",
      "source": [
        "dataset = Planetoid(root='/tmp/Cora', name='Cora')\n",
        "data = dataset[0]\n",
        "print(f\"Dataset: {dataset.name}\")\n",
        "print(f\"Number of Nodes: {data.num_nodes}\")\n",
        "print(f\"Number of Edges: {data.num_edges}\")\n",
        "print(f\"Number of Features: {data.num_node_features}\")\n",
        "print(f\"Number of Classes: {dataset.num_classes}\")\n"
      ],
      "metadata": {
        "colab": {
          "base_uri": "https://localhost:8080/"
        },
        "id": "LIwkaegA3NYC",
        "outputId": "3e004672-759b-4ae4-a1a3-10ca87c6f4fa"
      },
      "execution_count": 52,
      "outputs": [
        {
          "output_type": "stream",
          "name": "stdout",
          "text": [
            "Dataset: Cora\n",
            "Number of Nodes: 2708\n",
            "Number of Edges: 10556\n",
            "Number of Features: 1433\n",
            "Number of Classes: 7\n"
          ]
        }
      ]
    },
    {
      "cell_type": "code",
      "source": [
        "torch.manual_seed(42)"
      ],
      "metadata": {
        "colab": {
          "base_uri": "https://localhost:8080/"
        },
        "id": "YrGC6I-l3Rky",
        "outputId": "489ef361-7a10-4562-f72f-34cbbbc56dc2"
      },
      "execution_count": 53,
      "outputs": [
        {
          "output_type": "execute_result",
          "data": {
            "text/plain": [
              "<torch._C.Generator at 0x79cdc0f322d0>"
            ]
          },
          "metadata": {},
          "execution_count": 53
        }
      ]
    },
    {
      "cell_type": "code",
      "source": [
        "class GCN(torch.nn.Module):\n",
        "    def __init__(self, in_channels, hidden_channels, out_channels):\n",
        "        super(GCN, self).__init__()\n",
        "        # Define two GCN layers\n",
        "        self.conv1 = GCNConv(in_channels, hidden_channels)\n",
        "        self.conv2 = GCNConv(hidden_channels, out_channels)\n",
        "\n",
        "    def forward(self, x, edge_index):\n",
        "        x = self.conv1(x, edge_index)\n",
        "        x = F.relu(x)\n",
        "        x = F.dropout(x, p=0.05, training=self.training)\n",
        "\n",
        "        x = self.conv2(x, edge_index)\n",
        "        return F.log_softmax(x, dim=1)"
      ],
      "metadata": {
        "id": "AKf-UUpb3Xqj"
      },
      "execution_count": 54,
      "outputs": []
    },
    {
      "cell_type": "code",
      "source": [
        "model = GCN(\n",
        "    in_channels=1433,\n",
        "    hidden_channels=32,\n",
        "    out_channels=7\n",
        ")"
      ],
      "metadata": {
        "id": "aqy-Za0w3Y7J"
      },
      "execution_count": 55,
      "outputs": []
    },
    {
      "cell_type": "code",
      "source": [
        "out = model(data.x, data.edge_index)\n",
        "print(out.shape)"
      ],
      "metadata": {
        "colab": {
          "base_uri": "https://localhost:8080/"
        },
        "id": "zk9L0tk73a35",
        "outputId": "328e69d6-5d53-4ca9-d02b-5423a1805b8a"
      },
      "execution_count": 56,
      "outputs": [
        {
          "output_type": "stream",
          "name": "stdout",
          "text": [
            "torch.Size([2708, 7])\n"
          ]
        }
      ]
    },
    {
      "cell_type": "code",
      "source": [
        "import torch.nn.functional as F\n",
        "\n",
        "def compute_loss(output, y, mask):\n",
        "    loss = F.nll_loss(output[mask], y[mask])\n",
        "    return loss\n",
        "optimizer = torch.optim.Adam(model.parameters(), lr=0.01, weight_decay=5e-2)"
      ],
      "metadata": {
        "id": "yw0cL9t83co6"
      },
      "execution_count": 57,
      "outputs": []
    },
    {
      "cell_type": "code",
      "source": [
        "def train(data):\n",
        "    model.train()\n",
        "    optimizer.zero_grad()\n",
        "    output = model(data.x, data.edge_index)\n",
        "    loss = compute_loss(output, data.y, data.train_mask)\n",
        "    loss.backward()\n",
        "    optimizer.step()\n",
        "    return loss.item()"
      ],
      "metadata": {
        "id": "7YGhCNHO3lE4"
      },
      "execution_count": 58,
      "outputs": []
    },
    {
      "cell_type": "code",
      "source": [
        "def test(data):\n",
        "    model.eval()\n",
        "    output = model(data.x, data.edge_index)\n",
        "    pred = output.argmax(dim=1)\n",
        "    accs = []\n",
        "    for mask in [data.train_mask, data.val_mask, data.test_mask]:\n",
        "        correct = pred[mask].eq(data.y[mask]).sum().item()\n",
        "        acc = correct / mask.sum().item()\n",
        "        accs.append(acc)\n",
        "    return accs"
      ],
      "metadata": {
        "id": "vDr_TyhW3nii"
      },
      "execution_count": 59,
      "outputs": []
    },
    {
      "cell_type": "code",
      "source": [
        "for epoch in range(200):\n",
        "    loss = train(data)\n",
        "    train_acc, val_acc, test_acc = test(data)\n",
        "\n",
        "    if epoch % 10 == 0:\n",
        "        print(f\"Epoch: {epoch:03d}, Loss: {loss:.4f}, \"\n",
        "              f\"Train Acc: {train_acc:.4f}, Val Acc: {val_acc:.4f}, Test Acc: {test_acc:.4f}\")"
      ],
      "metadata": {
        "colab": {
          "base_uri": "https://localhost:8080/"
        },
        "id": "eQ0RM8-J3pbQ",
        "outputId": "eeb11c58-1f7e-4c66-9600-0907c07ec3a1"
      },
      "execution_count": 60,
      "outputs": [
        {
          "output_type": "stream",
          "name": "stdout",
          "text": [
            "Epoch: 000, Loss: 1.9558, Train Acc: 0.5429, Val Acc: 0.3200, Test Acc: 0.3470\n",
            "Epoch: 010, Loss: 1.1722, Train Acc: 0.9643, Val Acc: 0.7600, Test Acc: 0.7910\n",
            "Epoch: 020, Loss: 0.8760, Train Acc: 0.9714, Val Acc: 0.7660, Test Acc: 0.8160\n",
            "Epoch: 030, Loss: 0.7322, Train Acc: 0.9786, Val Acc: 0.7780, Test Acc: 0.8190\n",
            "Epoch: 040, Loss: 0.6941, Train Acc: 0.9786, Val Acc: 0.7860, Test Acc: 0.8170\n",
            "Epoch: 050, Loss: 0.7221, Train Acc: 0.9786, Val Acc: 0.7800, Test Acc: 0.8140\n",
            "Epoch: 060, Loss: 0.7481, Train Acc: 0.9714, Val Acc: 0.7840, Test Acc: 0.8090\n",
            "Epoch: 070, Loss: 0.7325, Train Acc: 0.9786, Val Acc: 0.7820, Test Acc: 0.8100\n",
            "Epoch: 080, Loss: 0.7338, Train Acc: 0.9786, Val Acc: 0.7820, Test Acc: 0.8080\n",
            "Epoch: 090, Loss: 0.7316, Train Acc: 0.9714, Val Acc: 0.7860, Test Acc: 0.8160\n",
            "Epoch: 100, Loss: 0.7278, Train Acc: 0.9857, Val Acc: 0.7800, Test Acc: 0.8140\n",
            "Epoch: 110, Loss: 0.7344, Train Acc: 0.9786, Val Acc: 0.7820, Test Acc: 0.8110\n",
            "Epoch: 120, Loss: 0.7241, Train Acc: 0.9714, Val Acc: 0.7820, Test Acc: 0.8100\n",
            "Epoch: 130, Loss: 0.7308, Train Acc: 0.9857, Val Acc: 0.7860, Test Acc: 0.8140\n",
            "Epoch: 140, Loss: 0.7273, Train Acc: 0.9786, Val Acc: 0.7840, Test Acc: 0.8140\n",
            "Epoch: 150, Loss: 0.7310, Train Acc: 0.9857, Val Acc: 0.7840, Test Acc: 0.8100\n",
            "Epoch: 160, Loss: 0.7288, Train Acc: 0.9786, Val Acc: 0.7820, Test Acc: 0.8100\n",
            "Epoch: 170, Loss: 0.7251, Train Acc: 0.9786, Val Acc: 0.7820, Test Acc: 0.8050\n",
            "Epoch: 180, Loss: 0.7259, Train Acc: 0.9714, Val Acc: 0.7840, Test Acc: 0.8100\n",
            "Epoch: 190, Loss: 0.7275, Train Acc: 0.9786, Val Acc: 0.7820, Test Acc: 0.8130\n"
          ]
        }
      ]
    },
    {
      "cell_type": "code",
      "source": [
        "def evaluate(data):\n",
        "    model.eval()  # Set the model to evaluation mode\n",
        "\n",
        "    # Forward pass to get predictions\n",
        "    with torch.no_grad():  # No gradients needed during evaluation\n",
        "        output = model(data.x, data.edge_index)\n",
        "\n",
        "    # Get predicted class for each node\n",
        "    predictions = output.argmax(dim=1)  # Pick the class with the highest probability\n",
        "\n",
        "    # Calculate accuracy for train, validation, and test sets\n",
        "    accuracies = {}\n",
        "    for mask_name, mask in [('Train', data.train_mask),\n",
        "                            ('Validation', data.val_mask),\n",
        "                            ('Test', data.test_mask)]:\n",
        "        correct = predictions[mask].eq(data.y[mask]).sum().item()  # Correct predictions\n",
        "        total = mask.sum().item()  # Total nodes in the mask\n",
        "        accuracy = correct / total\n",
        "        accuracies[mask_name] = accuracy\n",
        "\n",
        "    return accuracies"
      ],
      "metadata": {
        "id": "TTm_rWzA4ZQ5"
      },
      "execution_count": 61,
      "outputs": []
    },
    {
      "cell_type": "code",
      "source": [
        "# Initialize lists to track accuracy and loss\n",
        "train_acc_list = []\n",
        "val_acc_list = []\n",
        "loss_list = []\n",
        "\n",
        "for epoch in range(200):  # Train for 200 epochs\n",
        "    # Train the model\n",
        "    loss = train(data)\n",
        "    loss_list.append(loss)  # Store the loss\n",
        "\n",
        "    # Evaluate the model on train and validation sets\n",
        "    accuracies = evaluate(data)\n",
        "    train_acc_list.append(accuracies['Train'])  # Store train accuracy\n",
        "    val_acc_list.append(accuracies['Validation'])  # Store validation accuracy\n",
        "\n",
        "    # Print progress every 10 epochs\n",
        "    if epoch % 10 == 0:\n",
        "        print(f\"Epoch {epoch:03d}, Loss: {loss:.4f}, \"\n",
        "              f\"Train Acc: {accuracies['Train']:.4f}, \"\n",
        "              f\"Val Acc: {accuracies['Validation']:.4f}, \"\n",
        "              f\"Test Acc: {accuracies['Test']:.4f}\")\n",
        "\n"
      ],
      "metadata": {
        "colab": {
          "base_uri": "https://localhost:8080/"
        },
        "id": "jJlR7zH638AY",
        "outputId": "81ee06a5-d4ab-4831-d9f3-07eb32dca599"
      },
      "execution_count": 62,
      "outputs": [
        {
          "output_type": "stream",
          "name": "stdout",
          "text": [
            "Epoch 000, Loss: 0.7225, Train Acc: 0.9786, Val Acc: 0.7840, Test Acc: 0.8120\n",
            "Epoch 010, Loss: 0.7239, Train Acc: 0.9714, Val Acc: 0.7800, Test Acc: 0.8110\n",
            "Epoch 020, Loss: 0.7175, Train Acc: 0.9786, Val Acc: 0.7840, Test Acc: 0.8090\n",
            "Epoch 030, Loss: 0.7248, Train Acc: 0.9786, Val Acc: 0.7800, Test Acc: 0.8080\n",
            "Epoch 040, Loss: 0.7262, Train Acc: 0.9786, Val Acc: 0.7820, Test Acc: 0.8100\n",
            "Epoch 050, Loss: 0.7210, Train Acc: 0.9786, Val Acc: 0.7820, Test Acc: 0.8120\n",
            "Epoch 060, Loss: 0.7233, Train Acc: 0.9786, Val Acc: 0.7840, Test Acc: 0.8120\n",
            "Epoch 070, Loss: 0.7254, Train Acc: 0.9714, Val Acc: 0.7860, Test Acc: 0.8140\n",
            "Epoch 080, Loss: 0.7227, Train Acc: 0.9857, Val Acc: 0.7840, Test Acc: 0.8110\n",
            "Epoch 090, Loss: 0.7350, Train Acc: 0.9786, Val Acc: 0.7820, Test Acc: 0.8160\n",
            "Epoch 100, Loss: 0.7212, Train Acc: 0.9714, Val Acc: 0.7840, Test Acc: 0.8120\n",
            "Epoch 110, Loss: 0.7295, Train Acc: 0.9857, Val Acc: 0.7860, Test Acc: 0.8110\n",
            "Epoch 120, Loss: 0.7311, Train Acc: 0.9857, Val Acc: 0.7780, Test Acc: 0.8130\n",
            "Epoch 130, Loss: 0.7246, Train Acc: 0.9857, Val Acc: 0.7800, Test Acc: 0.8150\n",
            "Epoch 140, Loss: 0.7186, Train Acc: 0.9857, Val Acc: 0.7820, Test Acc: 0.8130\n",
            "Epoch 150, Loss: 0.7210, Train Acc: 0.9857, Val Acc: 0.7820, Test Acc: 0.8120\n",
            "Epoch 160, Loss: 0.7325, Train Acc: 0.9786, Val Acc: 0.7840, Test Acc: 0.8100\n",
            "Epoch 170, Loss: 0.7318, Train Acc: 0.9786, Val Acc: 0.7820, Test Acc: 0.8100\n",
            "Epoch 180, Loss: 0.7194, Train Acc: 0.9857, Val Acc: 0.7780, Test Acc: 0.8150\n",
            "Epoch 190, Loss: 0.7252, Train Acc: 0.9786, Val Acc: 0.7820, Test Acc: 0.8140\n"
          ]
        }
      ]
    },
    {
      "cell_type": "code",
      "source": [
        "import matplotlib.pyplot as plt\n",
        "\n",
        "# Suppose you logged the losses and accuracies during training\n",
        "epochs = range(len(train_acc_list))  # List of epoch numbers\n",
        "plt.plot(epochs, train_acc_list, label=\"Train Accuracy\")\n",
        "plt.plot(epochs, val_acc_list, label=\"Validation Accuracy\")\n",
        "plt.xlabel(\"Epoch\")\n",
        "plt.ylabel(\"Accuracy\")\n",
        "plt.legend()\n",
        "plt.title(\"Training Progress\")\n",
        "plt.show()\n",
        ""
      ],
      "metadata": {
        "colab": {
          "base_uri": "https://localhost:8080/",
          "height": 472
        },
        "id": "tOuP2-YD3tj7",
        "outputId": "78303bef-d3ac-4a23-f838-25fb74fb6df2"
      },
      "execution_count": 63,
      "outputs": [
        {
          "output_type": "display_data",
          "data": {
            "text/plain": [
              "<Figure size 640x480 with 1 Axes>"
            ],
            "image/png": "[encoded data removed]"
          },
          "metadata": {}
        }
      ]
    },
    {
      "cell_type": "code",
      "source": [
        "def generate_trigger_graph(data, model, num_trigger_nodes=10, target_label=0):\n",
        "    # Get model predictions for all nodes\n",
        "    model.eval()\n",
        "    with torch.no_grad():\n",
        "        output = model(data.x, data.edge_index)\n",
        "        predictions = output.argmax(dim=1)\n",
        "\n",
        "    # Select nodes with the highest probability for the target label\n",
        "    target_nodes = torch.where(predictions == target_label)[0][:num_trigger_nodes]\n",
        "\n",
        "    # Generate trigger nodes and connect them to the selected nodes\n",
        "    trigger_features = data.x[target_nodes].clone()  # Copy features of target nodes\n",
        "    trigger_adj = torch.eye(num_trigger_nodes)  # Create self-loops for trigger nodes\n",
        "\n",
        "    # Attach trigger nodes to the clean graph\n",
        "    new_features = torch.cat([data.x, trigger_features], dim=0)\n",
        "    new_adj = torch.block_diag(data.edge_index, trigger_adj)\n",
        "\n",
        "    return new_features, new_adj"
      ],
      "metadata": {
        "id": "mNBZ--WJ_Pqi"
      },
      "execution_count": 64,
      "outputs": []
    },
    {
      "cell_type": "code",
      "source": [
        "def train_with_watermark(data, trigger_graph, target_label):\n",
        "    model.train()\n",
        "    optimizer.zero_grad()\n",
        "\n",
        "    # Combine clean graph with trigger graph\n",
        "    x_combined = torch.cat([data.x, trigger_graph['features']], dim=0)\n",
        "    edge_index_combined = torch.cat([data.edge_index, trigger_graph['edges']], dim=1)\n",
        "\n",
        "    # Forward pass\n",
        "    output = model(x_combined, edge_index_combined)\n",
        "\n",
        "    # Compute classification loss\n",
        "    loss = F.nll_loss(output[data.train_mask], data.y[data.train_mask])\n",
        "\n",
        "    # Add watermarking loss (if applicable)\n",
        "    trigger_loss = F.nll_loss(output[trigger_graph['nodes']], target_label)\n",
        "    total_loss = loss + trigger_loss\n",
        "\n",
        "    # Backward pass\n",
        "    total_loss.backward()\n",
        "    optimizer.step()\n",
        "\n",
        "    return total_loss.item()\n",
        "\n"
      ],
      "metadata": {
        "id": "mgsluEz9DO2-"
      },
      "execution_count": 65,
      "outputs": []
    },
    {
      "cell_type": "code",
      "source": [
        "def verify_ownership(model, trigger_graph, target_label):\n",
        "    model.eval()\n",
        "    with torch.no_grad():\n",
        "        output = model(trigger_graph['features'], trigger_graph['edges'])\n",
        "\n",
        "    # Measure accuracy of trigger set\n",
        "    predictions = output.argmax(dim=1)\n",
        "    trigger_accuracy = (predictions == target_label).sum().item() / len(trigger_graph['nodes'])\n",
        "\n",
        "    return trigger_accuracy"
      ],
      "metadata": {
        "id": "ZwCmyk0hDjFZ"
      },
      "execution_count": 66,
      "outputs": []
    },
    {
      "cell_type": "code",
      "source": [
        "def evaluate_fidelity(data):\n",
        "    model.eval()  # Set the model to evaluation mode\n",
        "\n",
        "    # Forward pass on the clean graph\n",
        "    with torch.no_grad():\n",
        "        output = model(data.x, data.edge_index)\n",
        "\n",
        "    # Compute accuracy for train, validation, and test sets\n",
        "    accuracies = {}\n",
        "    for mask_name, mask in [('Train', data.train_mask),\n",
        "                            ('Validation', data.val_mask),\n",
        "                            ('Test', data.test_mask)]:\n",
        "        correct = output[mask].argmax(dim=1).eq(data.y[mask]).sum().item()\n",
        "        total = mask.sum().item()\n",
        "        accuracies[mask_name] = correct / total\n",
        "\n",
        "    return accuracies\n",
        "\n",
        "fidelity_results = evaluate_fidelity(data)\n",
        "print(\"Fidelity Results:\")\n",
        "print(f\"Train Accuracy: {fidelity_results['Train']:.4f}\")\n",
        "print(f\"Validation Accuracy: {fidelity_results['Validation']:.4f}\")\n",
        "print(f\"Test Accuracy: {fidelity_results['Test']:.4f}\")"
      ],
      "metadata": {
        "colab": {
          "base_uri": "https://localhost:8080/"
        },
        "id": "XsJN3y_WFl8P",
        "outputId": "a9e11640-24e2-40cb-8b29-cd288ea47d2e"
      },
      "execution_count": 67,
      "outputs": [
        {
          "output_type": "stream",
          "name": "stdout",
          "text": [
            "Fidelity Results:\n",
            "Train Accuracy: 0.9857\n",
            "Validation Accuracy: 0.7820\n",
            "Test Accuracy: 0.8140\n"
          ]
        }
      ]
    },
    {
      "cell_type": "code",
      "source": [
        "def evaluate_watermark(trigger_graph, target_label):\n",
        "    model.eval()  # Set the model to evaluation mode\n",
        "\n",
        "    # Forward pass on the trigger graph\n",
        "    with torch.no_grad():\n",
        "        output = model(trigger_graph['features'], trigger_graph['edges'])\n",
        "\n",
        "    # Compute trigger accuracy\n",
        "    trigger_predictions = output[trigger_graph['nodes']].argmax(dim=1)\n",
        "    correct = (trigger_predictions == target_label).sum().item()\n",
        "    total = len(trigger_graph['nodes'])\n",
        "\n",
        "    return correct / total"
      ],
      "metadata": {
        "id": "LZ14Bew8FzRn"
      },
      "execution_count": 70,
      "outputs": []
    }
  ],
  "metadata": {
    "colab": {
      "provenance": [],
      "toc_visible": true,
      "authorship_tag": "ABX9TyOBlVALdRaitgublLvrpnNC",
      "include_colab_link": true
    },
    "kernelspec": {
      "display_name": "Python 3",
      "name": "python3"
    },
    "language_info": {
      "name": "python"
    }
  },
  "nbformat": 4,
  "nbformat_minor": 0
}