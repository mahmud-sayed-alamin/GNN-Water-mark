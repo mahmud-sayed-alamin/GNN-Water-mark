{
  "cells": [
    {
      "cell_type": "markdown",
      "metadata": {
        "id": "view-in-github",
        "colab_type": "text"
      },
      "source": [
        "<a href=\"https://colab.research.google.com/github/mahmud-sayed-alamin/GNN-Water-mark/blob/main/GNN.ipynb\" target=\"_parent\"><img src=\"https://colab.research.google.com/assets/colab-badge.svg\" alt=\"Open In Colab\"/></a>"
      ]
    },
    {
      "cell_type": "code",
      "execution_count": null,
      "metadata": {
        "colab": {
          "background_save": true
        },
        "id": "0OXhngaudU2F"
      },
      "outputs": [],
      "source": [
        "import torch\n",
        "import torch.nn as nn\n",
        "import torch.nn.functional as F\n",
        "from torch_geometric.datasets import Planetoid\n",
        "from torch_geometric.nn import GCNConv\n",
        "from torch_geometric.data import Data"
      ]
    },
    {
      "cell_type": "code",
      "execution_count": null,
      "metadata": {
        "colab": {
          "background_save": true,
          "base_uri": "https://localhost:8080/"
        },
        "id": "BWKdMJyT3BhV",
        "outputId": "2a56ef28-7ff9-41e8-af15-a3efdcad9471"
      },
      "outputs": [
        {
          "data": {
            "text/plain": [
              "<torch._C.Generator at 0x781b79b79b50>"
            ]
          },
          "execution_count": 168,
          "metadata": {},
          "output_type": "execute_result"
        }
      ],
      "source": [
        "torch.manual_seed(42)"
      ]
    },
    {
      "cell_type": "code",
      "source": [
        "!git checkout -b main"
      ],
      "metadata": {
        "colab": {
          "base_uri": "https://localhost:8080/"
        },
        "id": "6M-GzOkOie86",
        "outputId": "0cc5f131-c26d-46ea-9ac3-55be0e464cb1"
      },
      "execution_count": 17,
      "outputs": [
        {
          "output_type": "stream",
          "name": "stdout",
          "text": [
            "Switched to a new branch 'main'\n"
          ]
        }
      ]
    },
    {
      "cell_type": "code",
      "source": [
        "%cd content\n"
      ],
      "metadata": {
        "colab": {
          "base_uri": "https://localhost:8080/"
        },
        "id": "VR3zeaDRiuNY",
        "outputId": "901700f2-a36b-45ec-e7bd-5bf0ed53d032"
      },
      "execution_count": 22,
      "outputs": [
        {
          "output_type": "stream",
          "name": "stdout",
          "text": [
            "[Errno 2] No such file or directory: 'content'\n",
            "/root\n"
          ]
        }
      ]
    },
    {
      "cell_type": "code",
      "execution_count": null,
      "metadata": {
        "colab": {
          "background_save": true
        },
        "id": "01bAbeEVTC1A"
      },
      "outputs": [],
      "source": [
        "class GCN(torch.nn.Module):\n",
        "    def __init__(self, in_channels, hidden_channels, out_channels):\n",
        "        super(GCN, self).__init__()\n",
        "        self.conv1 = GCNConv(in_channels, hidden_channels)\n",
        "        self.conv2 = GCNConv(hidden_channels, out_channels)\n",
        "\n",
        "    def forward(self, x, edge_index):\n",
        "        x = self.conv1(x, edge_index)\n",
        "        x = F.relu(x)\n",
        "        x = F.dropout(x, p=0.05, training=self.training)\n",
        "\n",
        "        x = self.conv2(x, edge_index)\n",
        "        return F.log_softmax(x, dim=1)"
      ]
    },
    {
      "cell_type": "code",
      "execution_count": null,
      "metadata": {
        "colab": {
          "background_save": true
        },
        "id": "_qdpS8SqnDAS"
      },
      "outputs": [],
      "source": [
        "model = GCN(\n",
        "    in_channels=1433,\n",
        "    hidden_channels=32,\n",
        "    out_channels=7\n",
        ")"
      ]
    },
    {
      "cell_type": "code",
      "execution_count": null,
      "metadata": {
        "colab": {
          "background_save": true,
          "base_uri": "https://localhost:8080/"
        },
        "id": "4fx_WBPgn2B6",
        "outputId": "42bbf0d8-1b68-40f4-bb6f-4af01de1cfa6"
      },
      "outputs": [
        {
          "name": "stdout",
          "output_type": "stream",
          "text": [
            "torch.Size([2708, 7])\n"
          ]
        }
      ],
      "source": [
        "out = model(data.x, data.edge_index)\n",
        "print(out.shape)"
      ]
    },
    {
      "cell_type": "code",
      "execution_count": null,
      "metadata": {
        "colab": {
          "background_save": true
        },
        "id": "moA0UJzAyIfk"
      },
      "outputs": [],
      "source": [
        "import torch.nn.functional as F\n",
        "\n",
        "def compute_loss(output, y, mask):\n",
        "    loss = F.nll_loss(output[mask], y[mask])\n",
        "    return loss\n",
        "optimizer = torch.optim.Adam(model.parameters(), lr=0.01, weight_decay=5e-2)"
      ]
    },
    {
      "cell_type": "code",
      "execution_count": null,
      "metadata": {
        "colab": {
          "background_save": true
        },
        "id": "LsJjYGFWydz9"
      },
      "outputs": [],
      "source": [
        "def train(data):\n",
        "    model.train()\n",
        "    optimizer.zero_grad()\n",
        "    output = model(data.x, data.edge_index)\n",
        "    loss = compute_loss(output, data.y, data.train_mask)\n",
        "    loss.backward()\n",
        "    optimizer.step()\n",
        "    return loss.item()"
      ]
    },
    {
      "cell_type": "code",
      "execution_count": null,
      "metadata": {
        "colab": {
          "background_save": true
        },
        "id": "H6_TNTbJ0fsu"
      },
      "outputs": [],
      "source": [
        "def test(data):\n",
        "    model.eval()\n",
        "    output = model(data.x, data.edge_index)\n",
        "    pred = output.argmax(dim=1)\n",
        "    accs = []\n",
        "    for mask in [data.train_mask, data.val_mask, data.test_mask]:\n",
        "        correct = pred[mask].eq(data.y[mask]).sum().item()\n",
        "        acc = correct / mask.sum().item()\n",
        "        accs.append(acc)\n",
        "    return accs"
      ]
    },
    {
      "cell_type": "code",
      "execution_count": null,
      "metadata": {
        "colab": {
          "background_save": true,
          "base_uri": "https://localhost:8080/"
        },
        "id": "JN4cts3h0sDG",
        "outputId": "147e9563-c44c-4998-a47d-2eb3d095a182"
      },
      "outputs": [
        {
          "name": "stdout",
          "output_type": "stream",
          "text": [
            "Epoch: 000, Loss: 1.9519, Train Acc: 0.7214, Val Acc: 0.4000, Test Acc: 0.3870\n",
            "Epoch: 010, Loss: 1.0011, Train Acc: 0.9643, Val Acc: 0.7700, Test Acc: 0.8040\n",
            "Epoch: 020, Loss: 0.7521, Train Acc: 0.9786, Val Acc: 0.7880, Test Acc: 0.8190\n",
            "Epoch: 030, Loss: 0.6811, Train Acc: 0.9857, Val Acc: 0.7860, Test Acc: 0.8110\n",
            "Epoch: 040, Loss: 0.7163, Train Acc: 0.9857, Val Acc: 0.7860, Test Acc: 0.8170\n",
            "Epoch: 050, Loss: 0.7496, Train Acc: 0.9786, Val Acc: 0.7840, Test Acc: 0.8080\n",
            "Epoch: 060, Loss: 0.7324, Train Acc: 0.9714, Val Acc: 0.7860, Test Acc: 0.8100\n",
            "Epoch: 070, Loss: 0.7272, Train Acc: 0.9786, Val Acc: 0.7820, Test Acc: 0.8140\n",
            "Epoch: 080, Loss: 0.7329, Train Acc: 0.9786, Val Acc: 0.7840, Test Acc: 0.8140\n",
            "Epoch: 090, Loss: 0.7226, Train Acc: 0.9857, Val Acc: 0.7840, Test Acc: 0.8140\n",
            "Epoch: 100, Loss: 0.7146, Train Acc: 0.9857, Val Acc: 0.7780, Test Acc: 0.8100\n",
            "Epoch: 110, Loss: 0.7312, Train Acc: 0.9857, Val Acc: 0.7800, Test Acc: 0.8070\n",
            "Epoch: 120, Loss: 0.7267, Train Acc: 0.9857, Val Acc: 0.7820, Test Acc: 0.8100\n",
            "Epoch: 130, Loss: 0.7247, Train Acc: 0.9786, Val Acc: 0.7840, Test Acc: 0.8140\n",
            "Epoch: 140, Loss: 0.7253, Train Acc: 0.9786, Val Acc: 0.7840, Test Acc: 0.8110\n",
            "Epoch: 150, Loss: 0.7350, Train Acc: 0.9714, Val Acc: 0.7860, Test Acc: 0.8170\n",
            "Epoch: 160, Loss: 0.7248, Train Acc: 0.9857, Val Acc: 0.7800, Test Acc: 0.8130\n",
            "Epoch: 170, Loss: 0.7158, Train Acc: 0.9786, Val Acc: 0.7800, Test Acc: 0.8110\n",
            "Epoch: 180, Loss: 0.7232, Train Acc: 0.9786, Val Acc: 0.7780, Test Acc: 0.8120\n",
            "Epoch: 190, Loss: 0.7192, Train Acc: 0.9786, Val Acc: 0.7840, Test Acc: 0.8130\n"
          ]
        }
      ],
      "source": [
        "for epoch in range(200):\n",
        "    loss = train(data)\n",
        "    train_acc, val_acc, test_acc = test(data)\n",
        "\n",
        "    if epoch % 10 == 0:\n",
        "        print(f\"Epoch: {epoch:03d}, Loss: {loss:.4f}, \"\n",
        "              f\"Train Acc: {train_acc:.4f}, Val Acc: {val_acc:.4f}, Test Acc: {test_acc:.4f}\")"
      ]
    }
  ],
  "metadata": {
    "colab": {
      "provenance": [],
      "authorship_tag": "ABX9TyM8iZVEVxlNFXtq42FVAElW",
      "include_colab_link": true
    },
    "kernelspec": {
      "display_name": "Python 3",
      "name": "python3"
    },
    "language_info": {
      "name": "python"
    }
  },
  "nbformat": 4,
  "nbformat_minor": 0
}