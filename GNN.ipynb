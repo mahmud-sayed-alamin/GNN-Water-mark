{
  "cells": [
    {
      "cell_type": "markdown",
      "metadata": {
        "id": "view-in-github",
        "colab_type": "text"
      },
      "source": [
        "<a href=\"https://colab.research.google.com/github/mahmud-sayed-alamin/GNN-Water-mark/blob/main/GNN.ipynb\" target=\"_parent\"><img src=\"https://colab.research.google.com/assets/colab-badge.svg\" alt=\"Open In Colab\"/></a>"
      ]
    },
    {
      "cell_type": "code",
      "source": [
        "import torch\n",
        "import torch.nn as nn\n",
        "import torch.nn.functional as F\n",
        "from torch_geometric.datasets import Planetoid\n",
        "from torch_geometric.nn import GCNConv\n",
        "from torch_geometric.data import Data"
      ],
      "metadata": {
        "id": "eMdttRRA3EJL"
      },
      "execution_count": 3,
      "outputs": []
    },
    {
      "cell_type": "code",
      "source": [
        "dataset = Planetoid(root='/tmp/Cora', name='Cora')\n",
        "data = dataset[0]\n",
        "print(f\"Dataset: {dataset.name}\")\n",
        "print(f\"Number of Nodes: {data.num_nodes}\")\n",
        "print(f\"Number of Edges: {data.num_edges}\")\n",
        "print(f\"Number of Features: {data.num_node_features}\")\n",
        "print(f\"Number of Classes: {dataset.num_classes}\")\n"
      ],
      "metadata": {
        "colab": {
          "base_uri": "https://localhost:8080/"
        },
        "id": "LIwkaegA3NYC",
        "outputId": "d0be916c-6f0b-4720-cefd-154398241110"
      },
      "execution_count": 4,
      "outputs": [
        {
          "output_type": "stream",
          "name": "stderr",
          "text": [
            "Downloading https://github.com/kimiyoung/planetoid/raw/master/data/ind.cora.x\n",
            "Downloading https://github.com/kimiyoung/planetoid/raw/master/data/ind.cora.tx\n",
            "Downloading https://github.com/kimiyoung/planetoid/raw/master/data/ind.cora.allx\n",
            "Downloading https://github.com/kimiyoung/planetoid/raw/master/data/ind.cora.y\n",
            "Downloading https://github.com/kimiyoung/planetoid/raw/master/data/ind.cora.ty\n",
            "Downloading https://github.com/kimiyoung/planetoid/raw/master/data/ind.cora.ally\n",
            "Downloading https://github.com/kimiyoung/planetoid/raw/master/data/ind.cora.graph\n",
            "Downloading https://github.com/kimiyoung/planetoid/raw/master/data/ind.cora.test.index\n",
            "Processing...\n"
          ]
        },
        {
          "output_type": "stream",
          "name": "stdout",
          "text": [
            "Dataset: Cora\n",
            "Number of Nodes: 2708\n",
            "Number of Edges: 10556\n",
            "Number of Features: 1433\n",
            "Number of Classes: 7\n"
          ]
        },
        {
          "output_type": "stream",
          "name": "stderr",
          "text": [
            "Done!\n"
          ]
        }
      ]
    },
    {
      "cell_type": "code",
      "source": [
        "torch.manual_seed(42)"
      ],
      "metadata": {
        "colab": {
          "base_uri": "https://localhost:8080/"
        },
        "id": "YrGC6I-l3Rky",
        "outputId": "9298f3db-857e-4a6d-ff89-f2854f00f0a2"
      },
      "execution_count": 5,
      "outputs": [
        {
          "output_type": "execute_result",
          "data": {
            "text/plain": [
              "<torch._C.Generator at 0x7aaa7fd6e9b0>"
            ]
          },
          "metadata": {},
          "execution_count": 5
        }
      ]
    },
    {
      "cell_type": "code",
      "source": [
        "class GCN(torch.nn.Module):\n",
        "    def __init__(self, in_channels, hidden_channels, out_channels):\n",
        "        super(GCN, self).__init__()\n",
        "        self.conv1 = GCNConv(in_channels, hidden_channels)\n",
        "        self.conv2 = GCNConv(hidden_channels, out_channels)\n",
        "\n",
        "    def forward(self, x, edge_index):\n",
        "        x = self.conv1(x, edge_index)\n",
        "        x = F.relu(x)\n",
        "        x = F.dropout(x, p=0.05, training=self.training)\n",
        "\n",
        "        x = self.conv2(x, edge_index)\n",
        "        return F.log_softmax(x, dim=1)"
      ],
      "metadata": {
        "id": "AKf-UUpb3Xqj"
      },
      "execution_count": 6,
      "outputs": []
    },
    {
      "cell_type": "code",
      "source": [
        "model = GCN(\n",
        "    in_channels=1433,\n",
        "    hidden_channels=128,\n",
        "    out_channels=7\n",
        ")"
      ],
      "metadata": {
        "id": "aqy-Za0w3Y7J"
      },
      "execution_count": 7,
      "outputs": []
    },
    {
      "cell_type": "code",
      "source": [
        "import torch.nn.functional as F\n",
        "\n",
        "def compute_loss(output, y, mask):\n",
        "    loss = F.nll_loss(output[mask], y[mask])\n",
        "    return loss\n",
        "optimizer = torch.optim.Adam(model.parameters(), lr=0.01, weight_decay=5e-2)"
      ],
      "metadata": {
        "id": "yw0cL9t83co6"
      },
      "execution_count": 8,
      "outputs": []
    },
    {
      "cell_type": "code",
      "source": [
        "def train(data):\n",
        "    model.train()\n",
        "    optimizer.zero_grad()\n",
        "    output = model(data.x, data.edge_index)\n",
        "    loss = compute_loss(output, data.y, data.train_mask)\n",
        "    loss.backward()\n",
        "    optimizer.step()\n",
        "    return loss.item()"
      ],
      "metadata": {
        "id": "7YGhCNHO3lE4"
      },
      "execution_count": 9,
      "outputs": []
    },
    {
      "cell_type": "code",
      "source": [
        "def test(data):\n",
        "    model.eval()\n",
        "    output = model(data.x, data.edge_index)\n",
        "    pred = output.argmax(dim=1)\n",
        "    accs = []\n",
        "    for mask in [data.train_mask, data.val_mask, data.test_mask]:\n",
        "        correct = pred[mask].eq(data.y[mask]).sum().item()\n",
        "        acc = correct / mask.sum().item()\n",
        "        accs.append(acc)\n",
        "    return accs"
      ],
      "metadata": {
        "id": "vDr_TyhW3nii"
      },
      "execution_count": 10,
      "outputs": []
    },
    {
      "cell_type": "code",
      "source": [
        "for epoch in range(260):\n",
        "    loss = train(data)\n",
        "    train_acc, val_acc, test_acc = test(data)\n",
        "\n",
        "    if epoch % 10 == 0:\n",
        "        print(f\"Epoch: {epoch:03d}, Loss: {loss:.4f}, \"\n",
        "              f\"Train Acc: {train_acc:.4f}, Val Acc: {val_acc:.4f}, Test Acc: {test_acc:.4f}\")"
      ],
      "metadata": {
        "colab": {
          "base_uri": "https://localhost:8080/"
        },
        "id": "eQ0RM8-J3pbQ",
        "outputId": "3314ee84-1e29-4847-eb06-b7cbca7731e9"
      },
      "execution_count": 11,
      "outputs": [
        {
          "output_type": "stream",
          "name": "stdout",
          "text": [
            "Epoch: 000, Loss: 1.9435, Train Acc: 0.8429, Val Acc: 0.5400, Test Acc: 0.5970\n",
            "Epoch: 010, Loss: 0.8945, Train Acc: 0.9643, Val Acc: 0.7600, Test Acc: 0.7990\n",
            "Epoch: 020, Loss: 0.6689, Train Acc: 0.9857, Val Acc: 0.7820, Test Acc: 0.8160\n",
            "Epoch: 030, Loss: 0.6960, Train Acc: 0.9857, Val Acc: 0.7880, Test Acc: 0.8110\n",
            "Epoch: 040, Loss: 0.7475, Train Acc: 0.9857, Val Acc: 0.7820, Test Acc: 0.8060\n",
            "Epoch: 050, Loss: 0.7380, Train Acc: 0.9786, Val Acc: 0.7820, Test Acc: 0.8110\n",
            "Epoch: 060, Loss: 0.7220, Train Acc: 0.9786, Val Acc: 0.7820, Test Acc: 0.8110\n",
            "Epoch: 070, Loss: 0.7277, Train Acc: 0.9786, Val Acc: 0.7840, Test Acc: 0.8110\n",
            "Epoch: 080, Loss: 0.7244, Train Acc: 0.9786, Val Acc: 0.7820, Test Acc: 0.8100\n",
            "Epoch: 090, Loss: 0.7239, Train Acc: 0.9714, Val Acc: 0.7820, Test Acc: 0.8110\n",
            "Epoch: 100, Loss: 0.7191, Train Acc: 0.9714, Val Acc: 0.7840, Test Acc: 0.8110\n",
            "Epoch: 110, Loss: 0.7223, Train Acc: 0.9786, Val Acc: 0.7840, Test Acc: 0.8110\n",
            "Epoch: 120, Loss: 0.7206, Train Acc: 0.9786, Val Acc: 0.7840, Test Acc: 0.8110\n",
            "Epoch: 130, Loss: 0.7210, Train Acc: 0.9714, Val Acc: 0.7820, Test Acc: 0.8110\n",
            "Epoch: 140, Loss: 0.7219, Train Acc: 0.9786, Val Acc: 0.7860, Test Acc: 0.8100\n",
            "Epoch: 150, Loss: 0.7231, Train Acc: 0.9786, Val Acc: 0.7820, Test Acc: 0.8110\n",
            "Epoch: 160, Loss: 0.7116, Train Acc: 0.9714, Val Acc: 0.7840, Test Acc: 0.8130\n",
            "Epoch: 170, Loss: 0.7191, Train Acc: 0.9786, Val Acc: 0.7820, Test Acc: 0.8110\n",
            "Epoch: 180, Loss: 0.7188, Train Acc: 0.9786, Val Acc: 0.7840, Test Acc: 0.8110\n",
            "Epoch: 190, Loss: 0.7170, Train Acc: 0.9714, Val Acc: 0.7840, Test Acc: 0.8130\n",
            "Epoch: 200, Loss: 0.7207, Train Acc: 0.9786, Val Acc: 0.7840, Test Acc: 0.8130\n",
            "Epoch: 210, Loss: 0.7205, Train Acc: 0.9857, Val Acc: 0.7820, Test Acc: 0.8160\n",
            "Epoch: 220, Loss: 0.7261, Train Acc: 0.9786, Val Acc: 0.7780, Test Acc: 0.8130\n",
            "Epoch: 230, Loss: 0.7195, Train Acc: 0.9857, Val Acc: 0.7820, Test Acc: 0.8130\n",
            "Epoch: 240, Loss: 0.7200, Train Acc: 0.9786, Val Acc: 0.7840, Test Acc: 0.8150\n",
            "Epoch: 250, Loss: 0.7160, Train Acc: 0.9857, Val Acc: 0.7840, Test Acc: 0.8140\n"
          ]
        }
      ]
    },
    {
      "cell_type": "code",
      "source": [
        "def evaluate(data):\n",
        "    model.eval()\n",
        "\n",
        "    with torch.no_grad():\n",
        "        output = model(data.x, data.edge_index)\n",
        "\n",
        "    predictions = output.argmax(dim=1)\n",
        "\n",
        "    accuracies = {}\n",
        "    for mask_name, mask in [('Train', data.train_mask),\n",
        "                            ('Validation', data.val_mask),\n",
        "                            ('Test', data.test_mask)]:\n",
        "        correct = predictions[mask].eq(data.y[mask]).sum().item()\n",
        "        total = mask.sum().item()\n",
        "        accuracy = correct / total\n",
        "        accuracies[mask_name] = accuracy\n",
        "\n",
        "    return accuracies"
      ],
      "metadata": {
        "id": "TTm_rWzA4ZQ5"
      },
      "execution_count": 12,
      "outputs": []
    },
    {
      "cell_type": "code",
      "source": [
        "train_acc_list = []\n",
        "val_acc_list = []\n",
        "loss_list = []\n",
        "\n",
        "for epoch in range(200):\n",
        "    loss = train(data)\n",
        "    loss_list.append(loss)\n",
        "\n",
        "    accuracies = evaluate(data)\n",
        "    train_acc_list.append(accuracies['Train'])\n",
        "    val_acc_list.append(accuracies['Validation'])\n",
        "\n",
        "    if epoch % 10 == 0:\n",
        "        print(f\"Epoch {epoch:03d}, Loss: {loss:.4f}, \"\n",
        "              f\"Train Acc: {accuracies['Train']:.4f}, \"\n",
        "              f\"Val Acc: {accuracies['Validation']:.4f}, \"\n",
        "              f\"Test Acc: {accuracies['Test']:.4f}\")\n",
        "\n"
      ],
      "metadata": {
        "colab": {
          "base_uri": "https://localhost:8080/"
        },
        "id": "jJlR7zH638AY",
        "outputId": "509d9746-0fc6-4ddf-8dff-b4bfd264de3c"
      },
      "execution_count": 13,
      "outputs": [
        {
          "output_type": "stream",
          "name": "stdout",
          "text": [
            "Epoch 000, Loss: 0.7261, Train Acc: 0.9786, Val Acc: 0.7840, Test Acc: 0.8150\n",
            "Epoch 010, Loss: 0.7195, Train Acc: 0.9857, Val Acc: 0.7820, Test Acc: 0.8120\n",
            "Epoch 020, Loss: 0.7177, Train Acc: 0.9857, Val Acc: 0.7840, Test Acc: 0.8160\n",
            "Epoch 030, Loss: 0.7146, Train Acc: 0.9786, Val Acc: 0.7840, Test Acc: 0.8150\n",
            "Epoch 040, Loss: 0.7207, Train Acc: 0.9857, Val Acc: 0.7800, Test Acc: 0.8140\n",
            "Epoch 050, Loss: 0.7153, Train Acc: 0.9786, Val Acc: 0.7840, Test Acc: 0.8130\n",
            "Epoch 060, Loss: 0.7133, Train Acc: 0.9857, Val Acc: 0.7820, Test Acc: 0.8130\n",
            "Epoch 070, Loss: 0.7214, Train Acc: 0.9857, Val Acc: 0.7800, Test Acc: 0.8110\n",
            "Epoch 080, Loss: 0.7206, Train Acc: 0.9714, Val Acc: 0.7820, Test Acc: 0.8130\n",
            "Epoch 090, Loss: 0.7170, Train Acc: 0.9786, Val Acc: 0.7780, Test Acc: 0.8120\n",
            "Epoch 100, Loss: 0.7120, Train Acc: 0.9786, Val Acc: 0.7840, Test Acc: 0.8140\n",
            "Epoch 110, Loss: 0.7169, Train Acc: 0.9786, Val Acc: 0.7860, Test Acc: 0.8170\n",
            "Epoch 120, Loss: 0.7231, Train Acc: 0.9786, Val Acc: 0.7780, Test Acc: 0.8090\n",
            "Epoch 130, Loss: 0.7154, Train Acc: 0.9857, Val Acc: 0.7840, Test Acc: 0.8130\n",
            "Epoch 140, Loss: 0.7181, Train Acc: 0.9857, Val Acc: 0.7840, Test Acc: 0.8120\n",
            "Epoch 150, Loss: 0.7179, Train Acc: 0.9857, Val Acc: 0.7840, Test Acc: 0.8110\n",
            "Epoch 160, Loss: 0.7159, Train Acc: 0.9786, Val Acc: 0.7840, Test Acc: 0.8120\n",
            "Epoch 170, Loss: 0.7188, Train Acc: 0.9714, Val Acc: 0.7800, Test Acc: 0.8150\n",
            "Epoch 180, Loss: 0.7157, Train Acc: 0.9786, Val Acc: 0.7840, Test Acc: 0.8180\n",
            "Epoch 190, Loss: 0.7186, Train Acc: 0.9786, Val Acc: 0.7820, Test Acc: 0.8150\n"
          ]
        }
      ]
    },
    {
      "cell_type": "code",
      "source": [
        "def generate_trigger_graph(data, model, num_trigger_nodes=10, target_label=0):\n",
        "    model.eval()\n",
        "    with torch.no_grad():\n",
        "        output = model(data.x, data.edge_index)\n",
        "        predictions = output.argmax(dim=1)\n",
        "\n",
        "    target_nodes = torch.where(predictions == target_label)[0][:num_trigger_nodes]\n",
        "\n",
        "    trigger_features = data.x[target_nodes].clone()\n",
        "\n",
        "    num_original_nodes = data.x.shape[0]\n",
        "\n",
        "    trigger_indices = torch.arange(num_original_nodes, num_original_nodes + num_trigger_nodes)\n",
        "\n",
        "    new_edges = torch.cat([\n",
        "        torch.stack([trigger_indices, target_nodes], dim=0),\n",
        "        torch.stack([target_nodes, trigger_indices], dim=0)\n",
        "    ], dim=1)\n",
        "\n",
        "    return {\n",
        "        'features': trigger_features,\n",
        "        'edges': new_edges,\n",
        "        'nodes': trigger_indices\n",
        "    }"
      ],
      "metadata": {
        "id": "mNBZ--WJ_Pqi"
      },
      "execution_count": 15,
      "outputs": []
    },
    {
      "cell_type": "code",
      "source": [
        "def train_with_watermark(data, trigger_graph, target_label):\n",
        "    model.train()\n",
        "    optimizer.zero_grad()\n",
        "\n",
        "    # Combine clean graph with trigger graph\n",
        "    x_combined = torch.cat([data.x, trigger_graph['features']], dim=0)\n",
        "    edge_index_combined = torch.cat([data.edge_index, trigger_graph['edges']], dim=1)\n",
        "\n",
        "    output = model(x_combined, edge_index_combined)\n",
        "\n",
        "    loss = F.nll_loss(output[data.train_mask], data.y[data.train_mask])\n",
        "\n",
        "    trigger_loss = F.nll_loss(output[trigger_graph['nodes']], target_label)\n",
        "    total_loss = loss + trigger_loss\n",
        "\n",
        "    total_loss.backward()\n",
        "    optimizer.step()\n",
        "    trigger_graph\n",
        "    return total_loss.item()"
      ],
      "metadata": {
        "id": "mgsluEz9DO2-"
      },
      "execution_count": 16,
      "outputs": []
    },
    {
      "cell_type": "code",
      "source": [
        "def verify_ownership(model, data, trigger_graph, target_label):\n",
        "    model.eval()\n",
        "\n",
        "    # Combine original data with trigger graph\n",
        "    x_combined = torch.cat([data.x, trigger_graph['features']], dim=0)\n",
        "    edge_index_combined = torch.cat([data.edge_index, trigger_graph['edges']], dim=1)\n",
        "\n",
        "    with torch.no_grad():\n",
        "        output = model(x_combined, edge_index_combined)\n",
        "\n",
        "    predictions = output[trigger_graph['nodes']].argmax(dim=1)\n",
        "\n",
        "    trigger_accuracy = (predictions == target_label).sum().item() / len(trigger_graph['nodes'])\n",
        "\n",
        "    return trigger_accuracy"
      ],
      "metadata": {
        "id": "ZwCmyk0hDjFZ"
      },
      "execution_count": 17,
      "outputs": []
    },
    {
      "cell_type": "code",
      "source": [
        "def create_new_data(data, trigger_graph):\n",
        "    num_original_nodes = data.x.shape[0]\n",
        "\n",
        "    new_x = torch.cat([data.x, trigger_graph['features']], dim=0)\n",
        "\n",
        "    new_edge_index = torch.cat([data.edge_index, trigger_graph['edges']], dim=1)\n",
        "\n",
        "    new_y = torch.cat([data.y, torch.full((trigger_graph['nodes'].shape[0],), -1, dtype=torch.long)])\n",
        "\n",
        "    # Extend masks\n",
        "    new_train_mask = torch.cat([data.train_mask, torch.zeros(trigger_graph['nodes'].shape[0], dtype=torch.bool)])\n",
        "    new_val_mask = torch.cat([data.val_mask, torch.zeros(trigger_graph['nodes'].shape[0], dtype=torch.bool)])\n",
        "    new_test_mask = torch.cat([data.test_mask, torch.zeros(trigger_graph['nodes'].shape[0], dtype=torch.bool)])\n",
        "\n",
        "    new_data = data.__class__(\n",
        "        x=new_x,\n",
        "        edge_index=new_edge_index,\n",
        "        y=new_y,\n",
        "        train_mask=new_train_mask,\n",
        "        val_mask=new_val_mask,\n",
        "        test_mask=new_test_mask\n",
        "    )\n",
        "\n",
        "    return new_data\n",
        "\n",
        "trigger_graph = generate_trigger_graph(data, model)\n",
        "\n",
        "new_data = create_new_data(data, trigger_graph)\n"
      ],
      "metadata": {
        "id": "SA-OW-s77pWv"
      },
      "execution_count": 18,
      "outputs": []
    },
    {
      "cell_type": "markdown",
      "source": [],
      "metadata": {
        "id": "n4bd7WZN5s7n"
      }
    },
    {
      "cell_type": "code",
      "source": [
        "# Evaluate Fidelity\n",
        "original_model_performance = evaluate(data)\n",
        "print(f\"Train Acc: {original_model_performance['Train']}, Test Acc: {original_model_performance['Test']}\")\n",
        "\n",
        "watermarked_model_performance = evaluate(new_data)\n",
        "print(f\"Train Acc: {watermarked_model_performance['Train']}, Test Acc: {watermarked_model_performance['Test']}\")\n",
        "\n",
        "# Evaluate Watermark Effectiveness\n",
        "trigger_graph = generate_trigger_graph(data, model)\n",
        "trigger_accuracy = verify_ownership(model, data, trigger_graph, target_label=0)\n",
        "print(f\"Watermark Accuracy: {trigger_accuracy * 100:.2f}%\")"
      ],
      "metadata": {
        "colab": {
          "base_uri": "https://localhost:8080/"
        },
        "id": "v8L_27hTG3yR",
        "outputId": "eee7ecfb-669b-4f24-f412-f0220a87f76b"
      },
      "execution_count": 19,
      "outputs": [
        {
          "output_type": "stream",
          "name": "stdout",
          "text": [
            "Train Acc: 0.9785714285714285, Test Acc: 0.817\n",
            "Train Acc: 0.9857142857142858, Test Acc: 0.816\n",
            "Watermark Accuracy: 80.00%\n"
          ]
        }
      ]
    },
    {
      "cell_type": "code",
      "source": [],
      "metadata": {
        "id": "QNYifxWoHBlY"
      },
      "execution_count": null,
      "outputs": []
    },
    {
      "cell_type": "code",
      "source": [
        "from sklearn.metrics import f1_score\n",
        "\n",
        "output = model(data.x, data.edge_index)\n",
        "pred = output.argmax(dim=1)\n",
        "\n",
        "y_true = data.y[data.test_mask].cpu().numpy()\n",
        "y_pred = pred[data.test_mask].cpu().numpy()\n",
        "\n",
        "# Calculate F1 score\n",
        "f1 = f1_score(y_true, y_pred, average='weighted')\n",
        "print(f'F1 Score: {f1}')"
      ],
      "metadata": {
        "colab": {
          "base_uri": "https://localhost:8080/"
        },
        "id": "AbzW2NMj-R1u",
        "outputId": "7f358dbf-7157-47a1-bf89-63f7ca834137"
      },
      "execution_count": 27,
      "outputs": [
        {
          "output_type": "stream",
          "name": "stdout",
          "text": [
            "F1 Score: 0.8190772867404816\n"
          ]
        }
      ]
    },
    {
      "cell_type": "code",
      "source": [
        "from sklearn.metrics import f1_score\n",
        "\n",
        "output = model(new_data.x, new_data.edge_index)\n",
        "pred = output.argmax(dim=1)\n",
        "\n",
        "y_true = new_data.y[new_data.test_mask].cpu().numpy()\n",
        "y_pred = pred[new_data.test_mask].cpu().numpy()\n",
        "\n",
        "# Calculate F1 score\n",
        "f1_triggered = f1_score(y_true, y_pred, average='weighted')\n",
        "print(f'f1_triggered Score: {f1_triggered}')"
      ],
      "metadata": {
        "colab": {
          "base_uri": "https://localhost:8080/"
        },
        "id": "PGpJyW4CC_dD",
        "outputId": "d207b3f0-2c28-4e26-e1c4-8546c0d3f3e1"
      },
      "execution_count": 33,
      "outputs": [
        {
          "output_type": "stream",
          "name": "stdout",
          "text": [
            "f1_triggered Score: 0.8182140124865925\n"
          ]
        }
      ]
    },
    {
      "cell_type": "code",
      "source": [
        "paper_results = {\n",
        "    \"Metric\": [\"Watermark accuracy\"],\n",
        "    \"Paper verification performance\": [99.00],\n",
        "}\n",
        "\n",
        "verification_performance = trigger_accuracy*100\n",
        "\n",
        "results = {\n",
        "    \"Metric\": [\"Watermark accuracy\"],\n",
        "    \"verification_performance\": [verification_performance]\n",
        "}\n",
        "\n",
        "comparison_df = pd.DataFrame(paper_results).set_index(\"Metric\")\n",
        "comparison_df[[\"Verification performance\"]] = pd.DataFrame(results).set_index(\"Metric\")\n",
        "\n",
        "print(\"\\nComparison Table (GCN on Cora)\\n\")\n",
        "print(comparison_df.to_markdown())"
      ],
      "metadata": {
        "colab": {
          "base_uri": "https://localhost:8080/"
        },
        "id": "gdFVqgQ0E-nK",
        "outputId": "68d51b82-6ceb-4766-8067-28f6f85104be"
      },
      "execution_count": 45,
      "outputs": [
        {
          "output_type": "stream",
          "name": "stdout",
          "text": [
            "\n",
            "Comparison Table (GCN on Cora)\n",
            "\n",
            "| Metric             |   Paper verification performance |   Verification performance |\n",
            "|:-------------------|---------------------------------:|---------------------------:|\n",
            "| Watermark accuracy |                               99 |                         80 |\n"
          ]
        }
      ]
    },
    {
      "cell_type": "code",
      "source": [
        "import pandas as pd\n",
        "\n",
        "# Paper results for GCN on Cora\n",
        "paper_results = {\n",
        "    \"Metric\": [\"Accuracy\", \"F1-Score\"],\n",
        "    \"Paper Original\": [83.74, 83.70],\n",
        "    \"Paper Watermarked\": [83.40, 83.70]\n",
        "}\n",
        "\n",
        "model_accuracy_original = original_model_performance['Test']*100\n",
        "model_accuracy_watermarked = watermarked_model_performance['Test']*100\n",
        "verification_performance = trigger_accuracy*100\n",
        "\n",
        "model_f1_original = f1*100\n",
        "model_f1_watermarked = f1_triggered*100\n",
        "\n",
        "results = {\n",
        "    \"Metric\": [\"Accuracy\", \"F1-Score\"],\n",
        "    \"Original\": [model_accuracy_original, model_f1_original],\n",
        "    \"Watermarked\": [model_accuracy_watermarked, model_f1_watermarked],\n",
        "}\n",
        "\n",
        "comparison_df = pd.DataFrame(paper_results).set_index(\"Metric\")\n",
        "comparison_df[[\"Original\", \"Watermarked\"]] = pd.DataFrame(results).set_index(\"Metric\")\n",
        "\n",
        "print(\"\\nComparison Table (GCN on Cora)\\n\")\n",
        "print(comparison_df.to_markdown())"
      ],
      "metadata": {
        "colab": {
          "base_uri": "https://localhost:8080/"
        },
        "id": "cpA68Rsw_ZBY",
        "outputId": "511bf687-d9ea-4c73-82be-7b5effdc50c4"
      },
      "execution_count": 46,
      "outputs": [
        {
          "output_type": "stream",
          "name": "stdout",
          "text": [
            "\n",
            "Comparison Table (GCN on Cora)\n",
            "\n",
            "| Metric   |   Paper Original |   Paper Watermarked |   Original |   Watermarked |\n",
            "|:---------|-----------------:|--------------------:|-----------:|--------------:|\n",
            "| Accuracy |            83.74 |                83.4 |    81.7    |       81.6    |\n",
            "| F1-Score |            83.7  |                83.7 |    81.9077 |       81.8214 |\n"
          ]
        }
      ]
    },
    {
      "cell_type": "code",
      "source": [
        "import matplotlib.pyplot as plt\n",
        "import seaborn as sns\n",
        "\n",
        "metrics = [\"Original\", \"Watermarked\", \"Verification Performance\"]\n",
        "paper_values = [83.74, 83.40, 99.00]\n",
        "model_values = [model_accuracy_original, model_accuracy_watermarked, verification_performance]\n",
        "\n",
        "df = pd.DataFrame({\n",
        "    \"Metric\": metrics,\n",
        "    \"Paper Results\": paper_values,\n",
        "    \"Our Model\": model_values\n",
        "})\n",
        "\n",
        "plt.figure(figsize=(8, 5))\n",
        "ax = sns.barplot(x=\"Metric\", y=\"value\", hue=\"variable\", data=df.melt(id_vars=[\"Metric\"], var_name=\"variable\"))\n",
        "plt.xlabel(\"Metric\")\n",
        "plt.ylabel(\"Accuracy (%)\")\n",
        "plt.title(\"Comparison of Paper vs. Our Model Performance (GCN on Cora)\")\n",
        "plt.ylim(75, 100)\n",
        "plt.legend(title=\"Results\")\n",
        "plt.grid(axis=\"y\", linestyle=\"--\", alpha=0.7)\n",
        "plt.show()\n"
      ],
      "metadata": {
        "colab": {
          "base_uri": "https://localhost:8080/",
          "height": 487
        },
        "id": "4OrpI5LxARDz",
        "outputId": "e531a893-4dfe-4c64-cbf1-a220b4a21819"
      },
      "execution_count": 35,
      "outputs": [
        {
          "output_type": "display_data",
          "data": {
            "text/plain": [
              "<Figure size 800x500 with 1 Axes>"
            ],
            "image/png": "[encoded data removed]"
          },
          "metadata": {}
        }
      ]
    }
  ],
  "metadata": {
    "colab": {
      "provenance": [],
      "authorship_tag": "ABX9TyNBUsjdxL9/sIpKCP7s/V8F",
      "include_colab_link": true
    },
    "kernelspec": {
      "display_name": "Python 3",
      "name": "python3"
    },
    "language_info": {
      "name": "python"
    }
  },
  "nbformat": 4,
  "nbformat_minor": 0
}