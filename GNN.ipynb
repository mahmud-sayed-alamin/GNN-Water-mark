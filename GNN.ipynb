{
  "cells": [
    {
      "cell_type": "markdown",
      "metadata": {
        "id": "view-in-github",
        "colab_type": "text"
      },
      "source": [
        "<a href=\"https://colab.research.google.com/github/mahmud-sayed-alamin/GNN-Water-mark/blob/main/GNN.ipynb\" target=\"_parent\"><img src=\"https://colab.research.google.com/assets/colab-badge.svg\" alt=\"Open In Colab\"/></a>"
      ]
    },
    {
      "cell_type": "code",
      "source": [
        "import torch\n",
        "import torch.nn as nn\n",
        "import torch.nn.functional as F\n",
        "from torch_geometric.datasets import Planetoid\n",
        "from torch_geometric.nn import GCNConv\n",
        "from torch_geometric.data import Data"
      ],
      "metadata": {
        "id": "eMdttRRA3EJL"
      },
      "execution_count": null,
      "outputs": []
    },
    {
      "cell_type": "code",
      "source": [
        "dataset = Planetoid(root='/tmp/Cora', name='Cora')\n",
        "data = dataset[0]\n",
        "print(f\"Dataset: {dataset.name}\")\n",
        "print(f\"Number of Nodes: {data.num_nodes}\")\n",
        "print(f\"Number of Edges: {data.num_edges}\")\n",
        "print(f\"Number of Features: {data.num_node_features}\")\n",
        "print(f\"Number of Classes: {dataset.num_classes}\")\n"
      ],
      "metadata": {
        "colab": {
          "base_uri": "https://localhost:8080/"
        },
        "id": "LIwkaegA3NYC",
        "outputId": "ad76256b-1c18-4c75-8220-4ec49c9ae771"
      },
      "execution_count": null,
      "outputs": [
        {
          "output_type": "stream",
          "name": "stderr",
          "text": [
            "Downloading https://github.com/kimiyoung/planetoid/raw/master/data/ind.cora.x\n",
            "Downloading https://github.com/kimiyoung/planetoid/raw/master/data/ind.cora.tx\n",
            "Downloading https://github.com/kimiyoung/planetoid/raw/master/data/ind.cora.allx\n",
            "Downloading https://github.com/kimiyoung/planetoid/raw/master/data/ind.cora.y\n",
            "Downloading https://github.com/kimiyoung/planetoid/raw/master/data/ind.cora.ty\n",
            "Downloading https://github.com/kimiyoung/planetoid/raw/master/data/ind.cora.ally\n",
            "Downloading https://github.com/kimiyoung/planetoid/raw/master/data/ind.cora.graph\n",
            "Downloading https://github.com/kimiyoung/planetoid/raw/master/data/ind.cora.test.index\n",
            "Processing...\n"
          ]
        },
        {
          "output_type": "stream",
          "name": "stdout",
          "text": [
            "Dataset: Cora\n",
            "Number of Nodes: 2708\n",
            "Number of Edges: 10556\n",
            "Number of Features: 1433\n",
            "Number of Classes: 7\n"
          ]
        },
        {
          "output_type": "stream",
          "name": "stderr",
          "text": [
            "Done!\n"
          ]
        }
      ]
    },
    {
      "cell_type": "code",
      "source": [
        "torch.manual_seed(42)"
      ],
      "metadata": {
        "colab": {
          "base_uri": "https://localhost:8080/"
        },
        "id": "YrGC6I-l3Rky",
        "outputId": "1ddbddb2-4e34-424d-b906-103239b9498e"
      },
      "execution_count": null,
      "outputs": [
        {
          "output_type": "execute_result",
          "data": {
            "text/plain": [
              "<torch._C.Generator at 0x7da7903f24f0>"
            ]
          },
          "metadata": {},
          "execution_count": 7
        }
      ]
    },
    {
      "cell_type": "code",
      "source": [
        "class GCN(torch.nn.Module):\n",
        "    def __init__(self, in_channels, hidden_channels, out_channels):\n",
        "        super(GCN, self).__init__()\n",
        "        # Define two GCN layers\n",
        "        self.conv1 = GCNConv(in_channels, hidden_channels)\n",
        "        self.conv2 = GCNConv(hidden_channels, out_channels)\n",
        "\n",
        "    def forward(self, x, edge_index):\n",
        "        x = self.conv1(x, edge_index)\n",
        "        x = F.relu(x)\n",
        "        x = F.dropout(x, p=0.05, training=self.training)\n",
        "\n",
        "        x = self.conv2(x, edge_index)\n",
        "        return F.log_softmax(x, dim=1)"
      ],
      "metadata": {
        "id": "AKf-UUpb3Xqj"
      },
      "execution_count": null,
      "outputs": []
    },
    {
      "cell_type": "code",
      "source": [
        "model = GCN(\n",
        "    in_channels=1433,\n",
        "    hidden_channels=32,\n",
        "    out_channels=7\n",
        ")"
      ],
      "metadata": {
        "id": "aqy-Za0w3Y7J"
      },
      "execution_count": null,
      "outputs": []
    },
    {
      "cell_type": "code",
      "source": [
        "out = model(data.x, data.edge_index)\n",
        "print(out.shape)"
      ],
      "metadata": {
        "colab": {
          "base_uri": "https://localhost:8080/"
        },
        "id": "zk9L0tk73a35",
        "outputId": "365a55be-2d21-4eda-8186-55707fcfa236"
      },
      "execution_count": null,
      "outputs": [
        {
          "output_type": "stream",
          "name": "stdout",
          "text": [
            "torch.Size([2708, 7])\n"
          ]
        }
      ]
    },
    {
      "cell_type": "code",
      "source": [
        "import torch.nn.functional as F\n",
        "\n",
        "def compute_loss(output, y, mask):\n",
        "    loss = F.nll_loss(output[mask], y[mask])\n",
        "    return loss\n",
        "optimizer = torch.optim.Adam(model.parameters(), lr=0.01, weight_decay=5e-2)"
      ],
      "metadata": {
        "id": "yw0cL9t83co6"
      },
      "execution_count": null,
      "outputs": []
    },
    {
      "cell_type": "code",
      "source": [
        "def train(data):\n",
        "    model.train()\n",
        "    optimizer.zero_grad()\n",
        "    output = model(data.x, data.edge_index)\n",
        "    loss = compute_loss(output, data.y, data.train_mask)\n",
        "    loss.backward()\n",
        "    optimizer.step()\n",
        "    return loss.item()"
      ],
      "metadata": {
        "id": "7YGhCNHO3lE4"
      },
      "execution_count": null,
      "outputs": []
    },
    {
      "cell_type": "code",
      "source": [
        "def test(data):\n",
        "    model.eval()\n",
        "    output = model(data.x, data.edge_index)\n",
        "    pred = output.argmax(dim=1)\n",
        "    accs = []\n",
        "    for mask in [data.train_mask, data.val_mask, data.test_mask]:\n",
        "        correct = pred[mask].eq(data.y[mask]).sum().item()\n",
        "        acc = correct / mask.sum().item()\n",
        "        accs.append(acc)\n",
        "    return accs"
      ],
      "metadata": {
        "id": "vDr_TyhW3nii"
      },
      "execution_count": null,
      "outputs": []
    },
    {
      "cell_type": "code",
      "source": [
        "for epoch in range(200):\n",
        "    loss = train(data)\n",
        "    train_acc, val_acc, test_acc = test(data)\n",
        "\n",
        "    if epoch % 10 == 0:\n",
        "        print(f\"Epoch: {epoch:03d}, Loss: {loss:.4f}, \"\n",
        "              f\"Train Acc: {train_acc:.4f}, Val Acc: {val_acc:.4f}, Test Acc: {test_acc:.4f}\")"
      ],
      "metadata": {
        "colab": {
          "base_uri": "https://localhost:8080/"
        },
        "id": "eQ0RM8-J3pbQ",
        "outputId": "962e0631-9ed8-44f4-d970-af91df2d80da"
      },
      "execution_count": null,
      "outputs": [
        {
          "output_type": "stream",
          "name": "stdout",
          "text": [
            "Epoch: 000, Loss: 1.9558, Train Acc: 0.5429, Val Acc: 0.3200, Test Acc: 0.3470\n",
            "Epoch: 010, Loss: 1.1722, Train Acc: 0.9643, Val Acc: 0.7600, Test Acc: 0.7910\n",
            "Epoch: 020, Loss: 0.8760, Train Acc: 0.9714, Val Acc: 0.7660, Test Acc: 0.8160\n",
            "Epoch: 030, Loss: 0.7322, Train Acc: 0.9786, Val Acc: 0.7780, Test Acc: 0.8190\n",
            "Epoch: 040, Loss: 0.6941, Train Acc: 0.9786, Val Acc: 0.7860, Test Acc: 0.8170\n",
            "Epoch: 050, Loss: 0.7221, Train Acc: 0.9786, Val Acc: 0.7800, Test Acc: 0.8140\n",
            "Epoch: 060, Loss: 0.7481, Train Acc: 0.9714, Val Acc: 0.7840, Test Acc: 0.8090\n",
            "Epoch: 070, Loss: 0.7325, Train Acc: 0.9786, Val Acc: 0.7820, Test Acc: 0.8100\n",
            "Epoch: 080, Loss: 0.7338, Train Acc: 0.9786, Val Acc: 0.7820, Test Acc: 0.8080\n",
            "Epoch: 090, Loss: 0.7316, Train Acc: 0.9714, Val Acc: 0.7860, Test Acc: 0.8160\n",
            "Epoch: 100, Loss: 0.7278, Train Acc: 0.9857, Val Acc: 0.7800, Test Acc: 0.8140\n",
            "Epoch: 110, Loss: 0.7344, Train Acc: 0.9786, Val Acc: 0.7820, Test Acc: 0.8110\n",
            "Epoch: 120, Loss: 0.7241, Train Acc: 0.9714, Val Acc: 0.7820, Test Acc: 0.8100\n",
            "Epoch: 130, Loss: 0.7308, Train Acc: 0.9857, Val Acc: 0.7860, Test Acc: 0.8140\n",
            "Epoch: 140, Loss: 0.7273, Train Acc: 0.9786, Val Acc: 0.7840, Test Acc: 0.8140\n",
            "Epoch: 150, Loss: 0.7310, Train Acc: 0.9857, Val Acc: 0.7840, Test Acc: 0.8100\n",
            "Epoch: 160, Loss: 0.7288, Train Acc: 0.9786, Val Acc: 0.7820, Test Acc: 0.8100\n",
            "Epoch: 170, Loss: 0.7251, Train Acc: 0.9786, Val Acc: 0.7820, Test Acc: 0.8050\n",
            "Epoch: 180, Loss: 0.7259, Train Acc: 0.9714, Val Acc: 0.7840, Test Acc: 0.8100\n",
            "Epoch: 190, Loss: 0.7275, Train Acc: 0.9786, Val Acc: 0.7820, Test Acc: 0.8130\n"
          ]
        }
      ]
    },
    {
      "cell_type": "code",
      "source": [
        "def evaluate(data):\n",
        "    model.eval()  # Set the model to evaluation mode\n",
        "\n",
        "    # Forward pass to get predictions\n",
        "    with torch.no_grad():  # No gradients needed during evaluation\n",
        "        output = model(data.x, data.edge_index)\n",
        "\n",
        "    # Get predicted class for each node\n",
        "    predictions = output.argmax(dim=1)  # Pick the class with the highest probability\n",
        "\n",
        "    # Calculate accuracy for train, validation, and test sets\n",
        "    accuracies = {}\n",
        "    for mask_name, mask in [('Train', data.train_mask),\n",
        "                            ('Validation', data.val_mask),\n",
        "                            ('Test', data.test_mask)]:\n",
        "        correct = predictions[mask].eq(data.y[mask]).sum().item()  # Correct predictions\n",
        "        total = mask.sum().item()  # Total nodes in the mask\n",
        "        accuracy = correct / total\n",
        "        accuracies[mask_name] = accuracy\n",
        "\n",
        "    return accuracies"
      ],
      "metadata": {
        "id": "TTm_rWzA4ZQ5"
      },
      "execution_count": null,
      "outputs": []
    },
    {
      "cell_type": "code",
      "source": [
        "# Initialize lists to track accuracy and loss\n",
        "train_acc_list = []\n",
        "val_acc_list = []\n",
        "loss_list = []\n",
        "\n",
        "for epoch in range(200):  # Train for 200 epochs\n",
        "    # Train the model\n",
        "    loss = train(data)\n",
        "    loss_list.append(loss)  # Store the loss\n",
        "\n",
        "    # Evaluate the model on train and validation sets\n",
        "    accuracies = evaluate(data)\n",
        "    train_acc_list.append(accuracies['Train'])  # Store train accuracy\n",
        "    val_acc_list.append(accuracies['Validation'])  # Store validation accuracy\n",
        "\n",
        "    # Print progress every 10 epochs\n",
        "    if epoch % 10 == 0:\n",
        "        print(f\"Epoch {epoch:03d}, Loss: {loss:.4f}, \"\n",
        "              f\"Train Acc: {accuracies['Train']:.4f}, \"\n",
        "              f\"Val Acc: {accuracies['Validation']:.4f}, \"\n",
        "              f\"Test Acc: {accuracies['Test']:.4f}\")\n",
        "\n"
      ],
      "metadata": {
        "colab": {
          "base_uri": "https://localhost:8080/"
        },
        "id": "jJlR7zH638AY",
        "outputId": "43a0f122-b12c-4bbb-aece-5ff405e1e59e"
      },
      "execution_count": null,
      "outputs": [
        {
          "output_type": "stream",
          "name": "stdout",
          "text": [
            "Epoch 000, Loss: 0.7225, Train Acc: 0.9786, Val Acc: 0.7840, Test Acc: 0.8120\n",
            "Epoch 010, Loss: 0.7239, Train Acc: 0.9714, Val Acc: 0.7800, Test Acc: 0.8110\n",
            "Epoch 020, Loss: 0.7175, Train Acc: 0.9786, Val Acc: 0.7840, Test Acc: 0.8090\n",
            "Epoch 030, Loss: 0.7248, Train Acc: 0.9786, Val Acc: 0.7800, Test Acc: 0.8080\n",
            "Epoch 040, Loss: 0.7262, Train Acc: 0.9786, Val Acc: 0.7820, Test Acc: 0.8100\n",
            "Epoch 050, Loss: 0.7210, Train Acc: 0.9786, Val Acc: 0.7820, Test Acc: 0.8120\n",
            "Epoch 060, Loss: 0.7233, Train Acc: 0.9786, Val Acc: 0.7840, Test Acc: 0.8120\n",
            "Epoch 070, Loss: 0.7254, Train Acc: 0.9714, Val Acc: 0.7860, Test Acc: 0.8140\n",
            "Epoch 080, Loss: 0.7227, Train Acc: 0.9857, Val Acc: 0.7840, Test Acc: 0.8110\n",
            "Epoch 090, Loss: 0.7350, Train Acc: 0.9786, Val Acc: 0.7820, Test Acc: 0.8160\n",
            "Epoch 100, Loss: 0.7212, Train Acc: 0.9714, Val Acc: 0.7840, Test Acc: 0.8120\n",
            "Epoch 110, Loss: 0.7295, Train Acc: 0.9857, Val Acc: 0.7860, Test Acc: 0.8110\n",
            "Epoch 120, Loss: 0.7311, Train Acc: 0.9857, Val Acc: 0.7780, Test Acc: 0.8130\n",
            "Epoch 130, Loss: 0.7246, Train Acc: 0.9857, Val Acc: 0.7800, Test Acc: 0.8150\n",
            "Epoch 140, Loss: 0.7186, Train Acc: 0.9857, Val Acc: 0.7820, Test Acc: 0.8130\n",
            "Epoch 150, Loss: 0.7210, Train Acc: 0.9857, Val Acc: 0.7820, Test Acc: 0.8120\n",
            "Epoch 160, Loss: 0.7325, Train Acc: 0.9786, Val Acc: 0.7840, Test Acc: 0.8100\n",
            "Epoch 170, Loss: 0.7318, Train Acc: 0.9786, Val Acc: 0.7820, Test Acc: 0.8100\n",
            "Epoch 180, Loss: 0.7194, Train Acc: 0.9857, Val Acc: 0.7780, Test Acc: 0.8150\n",
            "Epoch 190, Loss: 0.7252, Train Acc: 0.9786, Val Acc: 0.7820, Test Acc: 0.8140\n"
          ]
        }
      ]
    },
    {
      "cell_type": "code",
      "source": [
        "import matplotlib.pyplot as plt\n",
        "\n",
        "# Suppose you logged the losses and accuracies during training\n",
        "epochs = range(len(train_acc_list))  # List of epoch numbers\n",
        "plt.plot(epochs, train_acc_list, label=\"Train Accuracy\")\n",
        "plt.plot(epochs, val_acc_list, label=\"Validation Accuracy\")\n",
        "plt.xlabel(\"Epoch\")\n",
        "plt.ylabel(\"Accuracy\")\n",
        "plt.legend()\n",
        "plt.title(\"Training Progress\")\n",
        "plt.show()\n"
      ],
      "metadata": {
        "colab": {
          "base_uri": "https://localhost:8080/",
          "height": 472
        },
        "id": "tOuP2-YD3tj7",
        "outputId": "be626f31-0bb8-4ffc-e272-f4c0cc95654b"
      },
      "execution_count": null,
      "outputs": [
        {
          "output_type": "display_data",
          "data": {
            "text/plain": [
              "<Figure size 640x480 with 1 Axes>"
            ],
            "image/png": "[encoded data removed]"
          },
          "metadata": {}
        }
      ]
    },
    {
      "cell_type": "code",
      "source": [
        "def generate_trigger_graph(data, model, num_trigger_nodes=10, target_label=0):\n",
        "    model.eval()\n",
        "    with torch.no_grad():\n",
        "        output = model(data.x, data.edge_index)\n",
        "        predictions = output.argmax(dim=1)\n",
        "\n",
        "    target_nodes = torch.where(predictions == target_label)[0][:num_trigger_nodes]\n",
        "\n",
        "    trigger_features = data.x[target_nodes].clone()\n",
        "\n",
        "    # Create trigger node indices\n",
        "    num_original_nodes = data.x.shape[0]\n",
        "\n",
        "    trigger_indices = torch.arange(num_original_nodes, num_original_nodes + num_trigger_nodes)\n",
        "\n",
        "    # Connect trigger nodes to their corresponding target nodes\n",
        "    new_edges = torch.cat([\n",
        "        torch.stack([trigger_indices, target_nodes], dim=0),\n",
        "        torch.stack([target_nodes, trigger_indices], dim=0)\n",
        "    ], dim=1)  # Bidirectional edges\n",
        "\n",
        "    return {\n",
        "        'features': trigger_features,\n",
        "        'edges': new_edges,\n",
        "        'nodes': trigger_indices\n",
        "    }"
      ],
      "metadata": {
        "id": "mNBZ--WJ_Pqi"
      },
      "execution_count": 47,
      "outputs": []
    },
    {
      "cell_type": "code",
      "source": [
        "def train_with_watermark(data, trigger_graph, target_label):\n",
        "    model.train()\n",
        "    optimizer.zero_grad()\n",
        "\n",
        "    # Combine clean graph with trigger graph\n",
        "    x_combined = torch.cat([data.x, trigger_graph['features']], dim=0)\n",
        "    edge_index_combined = torch.cat([data.edge_index, trigger_graph['edges']], dim=1)\n",
        "\n",
        "    # Forward pass\n",
        "    output = model(x_combined, edge_index_combined)\n",
        "\n",
        "    # Compute classification loss\n",
        "    loss = F.nll_loss(output[data.train_mask], data.y[data.train_mask])\n",
        "\n",
        "    # Add watermarking loss (if applicable)\n",
        "    trigger_loss = F.nll_loss(output[trigger_graph['nodes']], target_label)\n",
        "    total_loss = loss + trigger_loss\n",
        "\n",
        "    # Backward pass\n",
        "    total_loss.backward()\n",
        "    optimizer.step()\n",
        "    trigger_graph\n",
        "    return total_loss.item()"
      ],
      "metadata": {
        "id": "mgsluEz9DO2-"
      },
      "execution_count": 33,
      "outputs": []
    },
    {
      "cell_type": "code",
      "source": [
        "def verify_ownership(model, data, trigger_graph, target_label):\n",
        "    model.eval()\n",
        "\n",
        "    # Combine original data with trigger graph\n",
        "    x_combined = torch.cat([data.x, trigger_graph['features']], dim=0)\n",
        "    edge_index_combined = torch.cat([data.edge_index, trigger_graph['edges']], dim=1)\n",
        "\n",
        "    # Forward pass with the combined graph\n",
        "    with torch.no_grad():\n",
        "        output = model(x_combined, edge_index_combined)\n",
        "\n",
        "    # Extract predictions for the trigger nodes\n",
        "    predictions = output[trigger_graph['nodes']].argmax(dim=1)\n",
        "\n",
        "    # Calculate trigger accuracy\n",
        "    trigger_accuracy = (predictions == target_label).sum().item() / len(trigger_graph['nodes'])\n",
        "\n",
        "    return trigger_accuracy"
      ],
      "metadata": {
        "id": "ZwCmyk0hDjFZ"
      },
      "execution_count": 34,
      "outputs": []
    },
    {
      "cell_type": "code",
      "source": [
        "def create_new_data(data, trigger_graph):\n",
        "    num_original_nodes = data.x.shape[0]\n",
        "\n",
        "    # Concatenate the original node features with the trigger node features\n",
        "    new_x = torch.cat([data.x, trigger_graph['features']], dim=0)\n",
        "\n",
        "    # Concatenate the original edges with the new trigger-induced edges\n",
        "    new_edge_index = torch.cat([data.edge_index, trigger_graph['edges']], dim=1)\n",
        "\n",
        "    new_y = torch.cat([data.y, torch.full((trigger_graph['nodes'].shape[0],), -1, dtype=torch.long)])\n",
        "\n",
        "    # Extend masks\n",
        "    new_train_mask = torch.cat([data.train_mask, torch.zeros(trigger_graph['nodes'].shape[0], dtype=torch.bool)])\n",
        "    new_val_mask = torch.cat([data.val_mask, torch.zeros(trigger_graph['nodes'].shape[0], dtype=torch.bool)])\n",
        "    new_test_mask = torch.cat([data.test_mask, torch.zeros(trigger_graph['nodes'].shape[0], dtype=torch.bool)])\n",
        "\n",
        "    new_data = data.__class__(\n",
        "        x=new_x,\n",
        "        edge_index=new_edge_index,\n",
        "        y=new_y,\n",
        "        train_mask=new_train_mask,\n",
        "        val_mask=new_val_mask,\n",
        "        test_mask=new_test_mask\n",
        "    )\n",
        "\n",
        "    return new_data\n",
        "\n",
        "trigger_graph = generate_trigger_graph(data, model)\n",
        "\n",
        "new_data = create_new_data(data, trigger_graph)\n"
      ],
      "metadata": {
        "id": "SA-OW-s77pWv"
      },
      "execution_count": 61,
      "outputs": []
    },
    {
      "cell_type": "markdown",
      "source": [],
      "metadata": {
        "id": "n4bd7WZN5s7n"
      }
    },
    {
      "cell_type": "code",
      "source": [
        "# Evaluate Fidelity\n",
        "original_model_performance = evaluate(data)\n",
        "print(f\"Train Acc: {original_model_performance['Train']}, Test Acc: {original_model_performance['Test']}\")\n",
        "\n",
        "watermarked_model_performance = evaluate(new_data)\n",
        "print(f\"Train Acc: {watermarked_model_performance['Train']}, Test Acc: {watermarked_model_performance['Test']}\")\n",
        "\n",
        "# Evaluate Watermark Effectiveness\n",
        "trigger_graph = generate_trigger_graph(data, model)\n",
        "trigger_accuracy = verify_ownership(model, data, trigger_graph, target_label=0)\n",
        "print(f\"Watermark Accuracy: {trigger_accuracy * 100:.2f}%\")"
      ],
      "metadata": {
        "colab": {
          "base_uri": "https://localhost:8080/"
        },
        "id": "v8L_27hTG3yR",
        "outputId": "9620e538-3258-4a20-99a7-68b7bff7c615"
      },
      "execution_count": 60,
      "outputs": [
        {
          "output_type": "stream",
          "name": "stdout",
          "text": [
            "Train Acc: 0.9857142857142858, Test Acc: 0.814\n",
            "Train Acc: 0.9785714285714285, Test Acc: 0.814\n",
            "Watermark Accuracy: 90.00%\n"
          ]
        }
      ]
    },
    {
      "cell_type": "code",
      "source": [
        "import pandas as pd\n",
        "import torch\n",
        "\n",
        "# Paper results for GCN on Cora\n",
        "paper_results = {\n",
        "    \"Metric\": [\"Accuracy\"],\n",
        "    \"Paper Original\": [83.74],\n",
        "    \"Paper Watermarked\": [83.40],\n",
        "    \"Paper verification performance\": [99.00],\n",
        "}\n",
        "\n",
        "model_accuracy_original = original_model_performance['Test']*100\n",
        "model_accuracy_watermarked = watermarked_model_performance['Test']*100\n",
        "verification_performance = trigger_accuracy*100\n",
        "print(fidelity_metrics)\n",
        "\n",
        "results = {\n",
        "    \"Metric\": [\"Accuracy\"],\n",
        "    \"Original\": [model_accuracy_original],\n",
        "    \"Watermarked\": [model_accuracy_watermarked],\n",
        "    \"verification_performance\": [verification_performance]\n",
        "}\n",
        "\n",
        "comparison_df = pd.DataFrame(paper_results).set_index(\"Metric\")\n",
        "comparison_df[[\"Original\", \"Watermarked\", \"Verification performance\"]] = pd.DataFrame(results).set_index(\"Metric\")\n",
        "\n",
        "print(\"\\nComparison Table (GCN on Cora)\\n\")\n",
        "print(comparison_df.to_markdown())\n"
      ],
      "metadata": {
        "colab": {
          "base_uri": "https://localhost:8080/"
        },
        "id": "cpA68Rsw_ZBY",
        "outputId": "1753d641-6e40-4be2-cbf2-fe9ca86fd91a"
      },
      "execution_count": 77,
      "outputs": [
        {
          "output_type": "stream",
          "name": "stdout",
          "text": [
            "{'Train': 0.9857142857142858, 'Validation': 0.782, 'Test': 0.814}\n",
            "\n",
            "Comparison Table (GCN on Cora)\n",
            "\n",
            "| Metric   |   Paper Original |   Paper Watermarked |   Paper verification performance |   Original |   Watermarked |   Verification performance |\n",
            "|:---------|-----------------:|--------------------:|---------------------------------:|-----------:|--------------:|---------------------------:|\n",
            "| Accuracy |            83.74 |                83.4 |                               99 |       81.4 |          81.4 |                         90 |\n"
          ]
        }
      ]
    },
    {
      "cell_type": "code",
      "source": [
        "import matplotlib.pyplot as plt\n",
        "import seaborn as sns\n",
        "\n",
        "metrics = [\"Original\", \"Watermarked\", \"Verification Performance\"]\n",
        "paper_values = [83.74, 83.40, 99.00]\n",
        "model_values = [model_accuracy_original, model_accuracy_watermarked, verification_performance]\n",
        "\n",
        "df = pd.DataFrame({\n",
        "    \"Metric\": metrics,\n",
        "    \"Paper Results\": paper_values,\n",
        "    \"Our Model\": model_values\n",
        "})\n",
        "\n",
        "plt.figure(figsize=(8, 5))\n",
        "ax = sns.barplot(x=\"Metric\", y=\"value\", hue=\"variable\", data=df.melt(id_vars=[\"Metric\"], var_name=\"variable\"))\n",
        "plt.xlabel(\"Metric\")\n",
        "plt.ylabel(\"Accuracy (%)\")\n",
        "plt.title(\"Comparison of Paper vs. Our Model Performance (GCN on Cora)\")\n",
        "plt.ylim(75, 100)\n",
        "plt.legend(title=\"Results\")\n",
        "plt.grid(axis=\"y\", linestyle=\"--\", alpha=0.7)\n",
        "plt.show()\n"
      ],
      "metadata": {
        "colab": {
          "base_uri": "https://localhost:8080/",
          "height": 487
        },
        "id": "4OrpI5LxARDz",
        "outputId": "046b8f36-7a26-4c6e-ecd5-45ae6b47ffe9"
      },
      "execution_count": 78,
      "outputs": [
        {
          "output_type": "display_data",
          "data": {
            "text/plain": [
              "<Figure size 800x500 with 1 Axes>"
            ],
            "image/png": "[encoded data removed]"
          },
          "metadata": {}
        }
      ]
    }
  ],
  "metadata": {
    "colab": {
      "provenance": [],
      "toc_visible": true,
      "authorship_tag": "ABX9TyM9Vkyx/RCgmP18UnaFjiJd",
      "include_colab_link": true
    },
    "kernelspec": {
      "display_name": "Python 3",
      "name": "python3"
    },
    "language_info": {
      "name": "python"
    }
  },
  "nbformat": 4,
  "nbformat_minor": 0
}