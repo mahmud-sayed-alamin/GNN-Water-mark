{
  "cells": [
    {
      "cell_type": "markdown",
      "metadata": {
        "id": "view-in-github",
        "colab_type": "text"
      },
      "source": [
        "<a href=\"https://colab.research.google.com/github/mahmud-sayed-alamin/GNN-Water-mark/blob/main/GNN.ipynb\" target=\"_parent\"><img src=\"https://colab.research.google.com/assets/colab-badge.svg\" alt=\"Open In Colab\"/></a>"
      ]
    },
    {
      "cell_type": "code",
      "source": [
        "import torch\n",
        "import torch.nn as nn\n",
        "import torch.nn.functional as F\n",
        "from torch_geometric.datasets import Planetoid\n",
        "from torch_geometric.nn import GCNConv\n",
        "from torch_geometric.data import Data"
      ],
      "metadata": {
        "id": "eMdttRRA3EJL"
      },
      "execution_count": 4,
      "outputs": []
    },
    {
      "cell_type": "code",
      "source": [
        "dataset = Planetoid(root='/tmp/Cora', name='Cora')\n",
        "data = dataset[0]"
      ],
      "metadata": {
        "id": "3xlN5UUPLZeH"
      },
      "execution_count": 12,
      "outputs": []
    },
    {
      "cell_type": "code",
      "source": [],
      "metadata": {
        "id": "YCjxRxjQLY5y"
      },
      "execution_count": null,
      "outputs": []
    },
    {
      "cell_type": "code",
      "source": [
        "model = GCN(\n",
        "    in_channels=1433,\n",
        "    hidden_channels=128,\n",
        "    out_channels=7\n",
        ")"
      ],
      "metadata": {
        "id": "aqy-Za0w3Y7J"
      },
      "execution_count": 6,
      "outputs": []
    },
    {
      "cell_type": "code",
      "source": [
        "import torch.nn.functional as F\n",
        "\n",
        "def compute_loss(output, y, mask):\n",
        "    loss = F.nll_loss(output[mask], y[mask])\n",
        "    return loss\n",
        "optimizer = torch.optim.Adam(model.parameters(), lr=0.01, weight_decay=5e-2)"
      ],
      "metadata": {
        "id": "yw0cL9t83co6"
      },
      "execution_count": 7,
      "outputs": []
    },
    {
      "cell_type": "code",
      "source": [
        "def train(data):\n",
        "    model.train()\n",
        "    optimizer.zero_grad()\n",
        "    output = model(data.x, data.edge_index)\n",
        "    loss = compute_loss(output, data.y, data.train_mask)\n",
        "    loss.backward()\n",
        "    optimizer.step()\n",
        "    return loss.item()"
      ],
      "metadata": {
        "id": "7YGhCNHO3lE4"
      },
      "execution_count": 8,
      "outputs": []
    },
    {
      "cell_type": "code",
      "source": [
        "def test(data):\n",
        "    model.eval()\n",
        "    output = model(data.x, data.edge_index)\n",
        "    pred = output.argmax(dim=1)\n",
        "    accs = []\n",
        "    for mask in [data.train_mask, data.val_mask, data.test_mask]:\n",
        "        correct = pred[mask].eq(data.y[mask]).sum().item()\n",
        "        acc = correct / mask.sum().item()\n",
        "        accs.append(acc)\n",
        "    return accs"
      ],
      "metadata": {
        "id": "vDr_TyhW3nii"
      },
      "execution_count": 9,
      "outputs": []
    },
    {
      "cell_type": "code",
      "source": [
        "for epoch in range(260):\n",
        "    loss = train(data)\n",
        "    train_acc, val_acc, test_acc = test(data)\n",
        "\n",
        "    if epoch % 10 == 0:\n",
        "        print(f\"Epoch: {epoch:03d}, Loss: {loss:.4f}, \"\n",
        "              f\"Train Acc: {train_acc:.4f}, Val Acc: {val_acc:.4f}, Test Acc: {test_acc:.4f}\")"
      ],
      "metadata": {
        "colab": {
          "base_uri": "https://localhost:8080/"
        },
        "id": "eQ0RM8-J3pbQ",
        "outputId": "0fcaffef-78eb-429d-c526-7763a46021df"
      },
      "execution_count": 13,
      "outputs": [
        {
          "output_type": "stream",
          "name": "stdout",
          "text": [
            "Epoch: 000, Loss: 1.9428, Train Acc: 0.8071, Val Acc: 0.5140, Test Acc: 0.5540\n",
            "Epoch: 010, Loss: 0.8913, Train Acc: 0.9500, Val Acc: 0.7780, Test Acc: 0.7970\n",
            "Epoch: 020, Loss: 0.6728, Train Acc: 0.9857, Val Acc: 0.7840, Test Acc: 0.8130\n",
            "Epoch: 030, Loss: 0.6971, Train Acc: 0.9786, Val Acc: 0.7820, Test Acc: 0.8130\n",
            "Epoch: 040, Loss: 0.7426, Train Acc: 0.9714, Val Acc: 0.7840, Test Acc: 0.8110\n",
            "Epoch: 050, Loss: 0.7326, Train Acc: 0.9786, Val Acc: 0.7800, Test Acc: 0.8110\n",
            "Epoch: 060, Loss: 0.7201, Train Acc: 0.9857, Val Acc: 0.7820, Test Acc: 0.8140\n",
            "Epoch: 070, Loss: 0.7257, Train Acc: 0.9857, Val Acc: 0.7840, Test Acc: 0.8110\n",
            "Epoch: 080, Loss: 0.7246, Train Acc: 0.9857, Val Acc: 0.7820, Test Acc: 0.8130\n",
            "Epoch: 090, Loss: 0.7226, Train Acc: 0.9857, Val Acc: 0.7800, Test Acc: 0.8140\n",
            "Epoch: 100, Loss: 0.7245, Train Acc: 0.9714, Val Acc: 0.7820, Test Acc: 0.8120\n",
            "Epoch: 110, Loss: 0.7251, Train Acc: 0.9857, Val Acc: 0.7800, Test Acc: 0.8110\n",
            "Epoch: 120, Loss: 0.7225, Train Acc: 0.9857, Val Acc: 0.7820, Test Acc: 0.8120\n",
            "Epoch: 130, Loss: 0.7206, Train Acc: 0.9786, Val Acc: 0.7820, Test Acc: 0.8130\n",
            "Epoch: 140, Loss: 0.7192, Train Acc: 0.9857, Val Acc: 0.7820, Test Acc: 0.8140\n",
            "Epoch: 150, Loss: 0.7182, Train Acc: 0.9786, Val Acc: 0.7820, Test Acc: 0.8120\n",
            "Epoch: 160, Loss: 0.7182, Train Acc: 0.9786, Val Acc: 0.7820, Test Acc: 0.8100\n",
            "Epoch: 170, Loss: 0.7157, Train Acc: 0.9786, Val Acc: 0.7860, Test Acc: 0.8140\n",
            "Epoch: 180, Loss: 0.7159, Train Acc: 0.9857, Val Acc: 0.7800, Test Acc: 0.8110\n",
            "Epoch: 190, Loss: 0.7172, Train Acc: 0.9786, Val Acc: 0.7860, Test Acc: 0.8110\n",
            "Epoch: 200, Loss: 0.7167, Train Acc: 0.9786, Val Acc: 0.7820, Test Acc: 0.8110\n",
            "Epoch: 210, Loss: 0.7187, Train Acc: 0.9786, Val Acc: 0.7840, Test Acc: 0.8150\n",
            "Epoch: 220, Loss: 0.7188, Train Acc: 0.9786, Val Acc: 0.7860, Test Acc: 0.8130\n",
            "Epoch: 230, Loss: 0.7167, Train Acc: 0.9857, Val Acc: 0.7840, Test Acc: 0.8130\n",
            "Epoch: 240, Loss: 0.7156, Train Acc: 0.9786, Val Acc: 0.7840, Test Acc: 0.8130\n",
            "Epoch: 250, Loss: 0.7234, Train Acc: 0.9786, Val Acc: 0.7840, Test Acc: 0.8130\n"
          ]
        }
      ]
    },
    {
      "cell_type": "code",
      "source": [
        "def evaluate(data):\n",
        "    model.eval()\n",
        "\n",
        "    with torch.no_grad():\n",
        "        output = model(data.x, data.edge_index)\n",
        "\n",
        "    predictions = output.argmax(dim=1)\n",
        "\n",
        "    accuracies = {}\n",
        "    for mask_name, mask in [('Train', data.train_mask),\n",
        "                            ('Validation', data.val_mask),\n",
        "                            ('Test', data.test_mask)]:\n",
        "        correct = predictions[mask].eq(data.y[mask]).sum().item()\n",
        "        total = mask.sum().item()\n",
        "        accuracy = correct / total\n",
        "        accuracies[mask_name] = accuracy\n",
        "\n",
        "    return accuracies"
      ],
      "metadata": {
        "id": "TTm_rWzA4ZQ5"
      },
      "execution_count": 14,
      "outputs": []
    },
    {
      "cell_type": "code",
      "source": [
        "train_acc_list = []\n",
        "val_acc_list = []\n",
        "loss_list = []\n",
        "\n",
        "for epoch in range(200):\n",
        "    loss = train(data)\n",
        "    loss_list.append(loss)\n",
        "\n",
        "    accuracies = evaluate(data)\n",
        "    train_acc_list.append(accuracies['Train'])\n",
        "    val_acc_list.append(accuracies['Validation'])\n",
        "\n",
        "    if epoch % 10 == 0:\n",
        "        print(f\"Epoch {epoch:03d}, Loss: {loss:.4f}, \"\n",
        "              f\"Train Acc: {accuracies['Train']:.4f}, \"\n",
        "              f\"Val Acc: {accuracies['Validation']:.4f}, \"\n",
        "              f\"Test Acc: {accuracies['Test']:.4f}\")\n",
        "\n"
      ],
      "metadata": {
        "colab": {
          "base_uri": "https://localhost:8080/"
        },
        "id": "jJlR7zH638AY",
        "outputId": "008f2650-c45b-4568-bf4c-c4190993b516"
      },
      "execution_count": 15,
      "outputs": [
        {
          "output_type": "stream",
          "name": "stdout",
          "text": [
            "Epoch 000, Loss: 0.7156, Train Acc: 0.9857, Val Acc: 0.7840, Test Acc: 0.8130\n",
            "Epoch 010, Loss: 0.7186, Train Acc: 0.9786, Val Acc: 0.7840, Test Acc: 0.8130\n",
            "Epoch 020, Loss: 0.7115, Train Acc: 0.9786, Val Acc: 0.7820, Test Acc: 0.8140\n",
            "Epoch 030, Loss: 0.7167, Train Acc: 0.9786, Val Acc: 0.7860, Test Acc: 0.8150\n",
            "Epoch 040, Loss: 0.7171, Train Acc: 0.9786, Val Acc: 0.7840, Test Acc: 0.8150\n",
            "Epoch 050, Loss: 0.7130, Train Acc: 0.9786, Val Acc: 0.7840, Test Acc: 0.8140\n",
            "Epoch 060, Loss: 0.7134, Train Acc: 0.9786, Val Acc: 0.7820, Test Acc: 0.8130\n",
            "Epoch 070, Loss: 0.7173, Train Acc: 0.9786, Val Acc: 0.7840, Test Acc: 0.8150\n",
            "Epoch 080, Loss: 0.7134, Train Acc: 0.9786, Val Acc: 0.7900, Test Acc: 0.8140\n",
            "Epoch 090, Loss: 0.7154, Train Acc: 0.9857, Val Acc: 0.7840, Test Acc: 0.8130\n",
            "Epoch 100, Loss: 0.7136, Train Acc: 0.9786, Val Acc: 0.7780, Test Acc: 0.8120\n",
            "Epoch 110, Loss: 0.7158, Train Acc: 0.9714, Val Acc: 0.7860, Test Acc: 0.8140\n",
            "Epoch 120, Loss: 0.7146, Train Acc: 0.9786, Val Acc: 0.7780, Test Acc: 0.8110\n",
            "Epoch 130, Loss: 0.7172, Train Acc: 0.9786, Val Acc: 0.7820, Test Acc: 0.8120\n",
            "Epoch 140, Loss: 0.7168, Train Acc: 0.9857, Val Acc: 0.7840, Test Acc: 0.8170\n",
            "Epoch 150, Loss: 0.7226, Train Acc: 0.9714, Val Acc: 0.7840, Test Acc: 0.8130\n",
            "Epoch 160, Loss: 0.7166, Train Acc: 0.9786, Val Acc: 0.7840, Test Acc: 0.8180\n",
            "Epoch 170, Loss: 0.7159, Train Acc: 0.9786, Val Acc: 0.7840, Test Acc: 0.8140\n",
            "Epoch 180, Loss: 0.7139, Train Acc: 0.9857, Val Acc: 0.7840, Test Acc: 0.8130\n",
            "Epoch 190, Loss: 0.7144, Train Acc: 0.9786, Val Acc: 0.7860, Test Acc: 0.8140\n"
          ]
        }
      ]
    },
    {
      "cell_type": "code",
      "source": [
        "def generate_trigger_graph(data, model, num_trigger_nodes=10, target_label=0):\n",
        "    model.eval()\n",
        "    with torch.no_grad():\n",
        "        output = model(data.x, data.edge_index)\n",
        "        predictions = output.argmax(dim=1)\n",
        "\n",
        "    target_nodes = torch.where(predictions == target_label)[0][:num_trigger_nodes]\n",
        "\n",
        "    trigger_features = data.x[target_nodes].clone()\n",
        "\n",
        "    num_original_nodes = data.x.shape[0]\n",
        "\n",
        "    trigger_indices = torch.arange(num_original_nodes, num_original_nodes + num_trigger_nodes)\n",
        "\n",
        "    new_edges = torch.cat([\n",
        "        torch.stack([trigger_indices, target_nodes], dim=0),\n",
        "        torch.stack([target_nodes, trigger_indices], dim=0)\n",
        "    ], dim=1)\n",
        "\n",
        "    return {\n",
        "        'features': trigger_features,\n",
        "        'edges': new_edges,\n",
        "        'nodes': trigger_indices\n",
        "    }"
      ],
      "metadata": {
        "id": "mNBZ--WJ_Pqi"
      },
      "execution_count": 16,
      "outputs": []
    },
    {
      "cell_type": "code",
      "source": [
        "def train_with_watermark(data, trigger_graph, target_label):\n",
        "    model.train()\n",
        "    optimizer.zero_grad()\n",
        "\n",
        "    # Combine clean graph with trigger graph\n",
        "    x_combined = torch.cat([data.x, trigger_graph['features']], dim=0)\n",
        "    edge_index_combined = torch.cat([data.edge_index, trigger_graph['edges']], dim=1)\n",
        "\n",
        "    output = model(x_combined, edge_index_combined)\n",
        "\n",
        "    loss = F.nll_loss(output[data.train_mask], data.y[data.train_mask])\n",
        "\n",
        "    trigger_loss = F.nll_loss(output[trigger_graph['nodes']], target_label)\n",
        "    total_loss = loss + trigger_loss\n",
        "\n",
        "    total_loss.backward()\n",
        "    optimizer.step()\n",
        "    trigger_graph\n",
        "    return total_loss.item()"
      ],
      "metadata": {
        "id": "mgsluEz9DO2-"
      },
      "execution_count": 17,
      "outputs": []
    },
    {
      "cell_type": "code",
      "source": [
        "def verify_ownership(model, data, trigger_graph, target_label):\n",
        "    model.eval()\n",
        "\n",
        "    # Combine original data with trigger graph\n",
        "    x_combined = torch.cat([data.x, trigger_graph['features']], dim=0)\n",
        "    edge_index_combined = torch.cat([data.edge_index, trigger_graph['edges']], dim=1)\n",
        "\n",
        "    with torch.no_grad():\n",
        "        output = model(x_combined, edge_index_combined)\n",
        "\n",
        "    predictions = output[trigger_graph['nodes']].argmax(dim=1)\n",
        "\n",
        "    trigger_accuracy = (predictions == target_label).sum().item() / len(trigger_graph['nodes'])\n",
        "\n",
        "    return trigger_accuracy"
      ],
      "metadata": {
        "id": "ZwCmyk0hDjFZ"
      },
      "execution_count": 18,
      "outputs": []
    },
    {
      "cell_type": "code",
      "source": [
        "def create_new_data(data, trigger_graph):\n",
        "    num_original_nodes = data.x.shape[0]\n",
        "\n",
        "    new_x = torch.cat([data.x, trigger_graph['features']], dim=0)\n",
        "\n",
        "    new_edge_index = torch.cat([data.edge_index, trigger_graph['edges']], dim=1)\n",
        "\n",
        "    new_y = torch.cat([data.y, torch.full((trigger_graph['nodes'].shape[0],), -1, dtype=torch.long)])\n",
        "\n",
        "    # Extend masks\n",
        "    new_train_mask = torch.cat([data.train_mask, torch.zeros(trigger_graph['nodes'].shape[0], dtype=torch.bool)])\n",
        "    new_val_mask = torch.cat([data.val_mask, torch.zeros(trigger_graph['nodes'].shape[0], dtype=torch.bool)])\n",
        "    new_test_mask = torch.cat([data.test_mask, torch.zeros(trigger_graph['nodes'].shape[0], dtype=torch.bool)])\n",
        "\n",
        "    new_data = data.__class__(\n",
        "        x=new_x,\n",
        "        edge_index=new_edge_index,\n",
        "        y=new_y,\n",
        "        train_mask=new_train_mask,\n",
        "        val_mask=new_val_mask,\n",
        "        test_mask=new_test_mask\n",
        "    )\n",
        "\n",
        "    return new_data\n",
        "\n",
        "trigger_graph = generate_trigger_graph(data, model)\n",
        "\n",
        "new_data = create_new_data(data, trigger_graph)\n"
      ],
      "metadata": {
        "id": "SA-OW-s77pWv"
      },
      "execution_count": 19,
      "outputs": []
    },
    {
      "cell_type": "markdown",
      "source": [],
      "metadata": {
        "id": "n4bd7WZN5s7n"
      }
    },
    {
      "cell_type": "code",
      "source": [
        "# Evaluate Fidelity\n",
        "original_model_performance = evaluate(data)\n",
        "print(f\"Train Acc: {original_model_performance['Train']}, Test Acc: {original_model_performance['Test']}\")\n",
        "\n",
        "watermarked_model_performance = evaluate(new_data)\n",
        "print(f\"Train Acc: {watermarked_model_performance['Train']}, Test Acc: {watermarked_model_performance['Test']}\")\n",
        "\n",
        "# Evaluate Watermark Effectiveness\n",
        "trigger_graph = generate_trigger_graph(data, model)\n",
        "trigger_accuracy = verify_ownership(model, data, trigger_graph, target_label=0)\n",
        "print(f\"Watermark Accuracy: {trigger_accuracy * 100:.2f}%\")"
      ],
      "metadata": {
        "colab": {
          "base_uri": "https://localhost:8080/"
        },
        "id": "v8L_27hTG3yR",
        "outputId": "f08ece4b-4cda-460a-de24-d2c94e63de2c"
      },
      "execution_count": 20,
      "outputs": [
        {
          "output_type": "stream",
          "name": "stdout",
          "text": [
            "Train Acc: 0.9857142857142858, Test Acc: 0.815\n",
            "Train Acc: 0.9785714285714285, Test Acc: 0.814\n",
            "Watermark Accuracy: 90.00%\n"
          ]
        }
      ]
    },
    {
      "cell_type": "code",
      "source": [
        "from sklearn.metrics import precision_score\n",
        "\n",
        "output = model(data.x, data.edge_index)\n",
        "pred = output.argmax(dim=1)\n",
        "\n",
        "y_true = data.y[data.test_mask].cpu().numpy()\n",
        "y_pred = pred[data.test_mask].cpu().numpy()\n",
        "\n",
        "# Calculate F1 score\n",
        "precision = precision_score(y_true, y_pred, average='weighted')\n",
        "print(f'F1 Score: {precision}')"
      ],
      "metadata": {
        "colab": {
          "base_uri": "https://localhost:8080/"
        },
        "id": "a7kz0YSmKKnG",
        "outputId": "2e32e4b8-be77-469f-9754-1762c15e200d"
      },
      "execution_count": 30,
      "outputs": [
        {
          "output_type": "stream",
          "name": "stdout",
          "text": [
            "F1 Score: 0.8310726392221233\n"
          ]
        }
      ]
    },
    {
      "cell_type": "code",
      "source": [
        "output = model(new_data.x, new_data.edge_index)\n",
        "pred = output.argmax(dim=1)\n",
        "\n",
        "y_true = new_data.y[new_data.test_mask].cpu().numpy()\n",
        "y_pred = pred[new_data.test_mask].cpu().numpy()\n",
        "\n",
        "precision_triggered = precision_score(y_true, y_pred, average='weighted')\n",
        "print(f'precision_triggered_Score: {precision_triggered}')"
      ],
      "metadata": {
        "id": "QNYifxWoHBlY",
        "colab": {
          "base_uri": "https://localhost:8080/"
        },
        "outputId": "2968f926-242f-4c59-c396-6459c68e0753"
      },
      "execution_count": 32,
      "outputs": [
        {
          "output_type": "stream",
          "name": "stdout",
          "text": [
            "precision_triggered_Score: 0.8303219770274207\n"
          ]
        }
      ]
    },
    {
      "cell_type": "code",
      "source": [
        "from sklearn.metrics import f1_score\n",
        "\n",
        "output = model(data.x, data.edge_index)\n",
        "pred = output.argmax(dim=1)\n",
        "\n",
        "y_true = data.y[data.test_mask].cpu().numpy()\n",
        "y_pred = pred[data.test_mask].cpu().numpy()\n",
        "\n",
        "# Calculate F1 score\n",
        "f1 = f1_score(y_true, y_pred, average='weighted')\n",
        "print(f'F1 Score: {f1}')"
      ],
      "metadata": {
        "colab": {
          "base_uri": "https://localhost:8080/"
        },
        "id": "AbzW2NMj-R1u",
        "outputId": "ee997312-c461-4273-ec64-1ee2ba90e5a9"
      },
      "execution_count": 22,
      "outputs": [
        {
          "output_type": "stream",
          "name": "stdout",
          "text": [
            "F1 Score: 0.8172392592881118\n"
          ]
        }
      ]
    },
    {
      "cell_type": "code",
      "source": [
        "output = model(new_data.x, new_data.edge_index)\n",
        "pred = output.argmax(dim=1)\n",
        "\n",
        "y_true = new_data.y[new_data.test_mask].cpu().numpy()\n",
        "y_pred = pred[new_data.test_mask].cpu().numpy()\n",
        "\n",
        "# Calculate F1 scoreaverage='weighted')\n",
        "print(f'f1_triggered Score: {f1_triggered}')\n",
        "f1_triggered = f1_score(y_true, y_pred,"
      ],
      "metadata": {
        "colab": {
          "base_uri": "https://localhost:8080/"
        },
        "id": "PGpJyW4CC_dD",
        "outputId": "2eb29066-6d3c-47e7-94f0-46518f2770d1"
      },
      "execution_count": 23,
      "outputs": [
        {
          "output_type": "stream",
          "name": "stdout",
          "text": [
            "f1_triggered Score: 0.8163706121044055\n"
          ]
        }
      ]
    },
    {
      "cell_type": "code",
      "source": [
        "paper_results = {\n",
        "    \"Metric\": [\"Watermark accuracy\"],\n",
        "    \"Paper verification performance\": [99.00],\n",
        "}\n",
        "\n",
        "verification_performance = trigger_accuracy*100\n",
        "\n",
        "results = {\n",
        "    \"Metric\": [\"Watermark accuracy\"],\n",
        "    \"verification_performance\": [verification_performance]\n",
        "}\n",
        "\n",
        "comparison_df = pd.DataFrame(paper_results).set_index(\"Metric\")\n",
        "comparison_df[[\"Verification performance\"]] = pd.DataFrame(results).set_index(\"Metric\")\n",
        "\n",
        "print(\"\\nComparison Table (GCN on Cora)\\n\")\n",
        "print(comparison_df.to_markdown())"
      ],
      "metadata": {
        "colab": {
          "base_uri": "https://localhost:8080/"
        },
        "id": "gdFVqgQ0E-nK",
        "outputId": "4eab12e7-0030-4788-8e87-6917f73e0875"
      },
      "execution_count": 34,
      "outputs": [
        {
          "output_type": "stream",
          "name": "stdout",
          "text": [
            "\n",
            "Comparison Table (GCN on Cora)\n",
            "\n",
            "| Metric             |   Paper verification performance |   Verification performance |\n",
            "|:-------------------|---------------------------------:|---------------------------:|\n",
            "| Watermark accuracy |                               99 |                         90 |\n"
          ]
        }
      ]
    },
    {
      "cell_type": "code",
      "source": [
        "\n",
        "# Paper results for GCN on Cora\n",
        "paper_results = {\n",
        "    \"Metric\": [\"Accuracy\", \"Precision\", \"F1-Score\"],\n",
        "    \"Paper Original\": [83.74, 83.84, 83.70],\n",
        "    \"Paper Watermarked\": [83.40, 83.47, 83.70],\n",
        "}\n",
        "\n",
        "model_accuracy_original = original_model_performance['Test']*100\n",
        "model_accuracy_watermarked = watermarked_model_performance['Test']*100\n",
        "verification_performance = trigger_accuracy*100\n",
        "\n",
        "model_precision_original = precision * 100\n",
        "model_precision_watermarked = precision_triggered * 100\n",
        "model_f1_original = f1*100\n",
        "model_f1_watermarked = f1_triggered*100\n",
        "\n",
        "results = {\n",
        "    \"Metric\": [\"Accuracy\", \"Precision\", \"F1-Score\"],\n",
        "    \"Original\": [model_accuracy_original, model_precision_original, model_f1_original],\n",
        "    \"Watermarked\": [model_accuracy_watermarked, model_precision_watermarked, model_f1_watermarked],\n",
        "}\n",
        "\n",
        "comparison_df = pd.DataFrame(paper_results).set_index(\"Metric\")\n",
        "comparison_df[[\"Original\", \"Watermarked\"]] = pd.DataFrame(results).set_index(\"Metric\")\n",
        "\n",
        "print(\"\\nComparison Table (GCN on Cora)\\n\")\n",
        "print(comparison_df.to_markdown())"
      ],
      "metadata": {
        "colab": {
          "base_uri": "https://localhost:8080/"
        },
        "id": "cpA68Rsw_ZBY",
        "outputId": "54938e16-5dc5-48aa-9a08-61eac6d44979"
      },
      "execution_count": 35,
      "outputs": [
        {
          "output_type": "stream",
          "name": "stdout",
          "text": [
            "\n",
            "Comparison Table (GCN on Cora)\n",
            "\n",
            "| Metric    |   Paper Original |   Paper Watermarked |   Original |   Watermarked |\n",
            "|:----------|-----------------:|--------------------:|-----------:|--------------:|\n",
            "| Accuracy  |            83.74 |               83.4  |    81.5    |       81.4    |\n",
            "| Precision |            83.84 |               83.47 |    83.1073 |       83.0322 |\n",
            "| F1-Score  |            83.7  |               83.7  |    81.7239 |       81.6371 |\n"
          ]
        }
      ]
    },
    {
      "cell_type": "code",
      "source": [
        "import matplotlib.pyplot as plt\n",
        "import seaborn as sns\n",
        "\n",
        "metrics = [\"Original\", \"Watermarked\", \"Verification Performance\"]\n",
        "paper_values = [83.74, 83.40, 99.00]\n",
        "model_values = [model_accuracy_original, model_accuracy_watermarked, verification_performance]\n",
        "\n",
        "df = pd.DataFrame({\n",
        "    \"Metric\": metrics,\n",
        "    \"Paper Results\": paper_values,\n",
        "    \"Our Model\": model_values\n",
        "})\n",
        "\n",
        "plt.figure(figsize=(8, 5))\n",
        "ax = sns.barplot(x=\"Metric\", y=\"value\", hue=\"variable\", data=df.melt(id_vars=[\"Metric\"], var_name=\"variable\"))\n",
        "plt.xlabel(\"Metric\")\n",
        "plt.ylabel(\"Accuracy (%)\")\n",
        "plt.title(\"Comparison of Paper vs. Our Model Performance (GCN on Cora)\")\n",
        "plt.ylim(75, 100)\n",
        "plt.legend(title=\"Results\")\n",
        "plt.grid(axis=\"y\", linestyle=\"--\", alpha=0.7)\n",
        "plt.show()\n"
      ],
      "metadata": {
        "colab": {
          "base_uri": "https://localhost:8080/",
          "height": 487
        },
        "id": "4OrpI5LxARDz",
        "outputId": "d61d961b-cb34-4fdd-a4fc-982145d47960"
      },
      "execution_count": 36,
      "outputs": [
        {
          "output_type": "display_data",
          "data": {
            "text/plain": [
              "<Figure size 800x500 with 1 Axes>"
            ],
            "image/png": "[encoded data removed]"
          },
          "metadata": {}
        }
      ]
    }
  ],
  "metadata": {
    "colab": {
      "provenance": [],
      "authorship_tag": "ABX9TyNR+bGFY9i3rlZs+WUu4OY4",
      "include_colab_link": true
    },
    "kernelspec": {
      "display_name": "Python 3",
      "name": "python3"
    },
    "language_info": {
      "name": "python"
    }
  },
  "nbformat": 4,
  "nbformat_minor": 0
}